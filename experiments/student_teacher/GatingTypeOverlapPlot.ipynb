{
 "cells": [
  {
   "cell_type": "code",
   "execution_count": 1,
   "id": "a6848734",
   "metadata": {},
   "outputs": [],
   "source": [
    "import jax\n",
    "import jax.numpy as jnp\n",
    "from jax import jit\n",
    "import numpy as np\n",
    "import plotly.graph_objects as go\n",
    "from make_masks import random_gates, deterministic_gates"
   ]
  },
  {
   "cell_type": "code",
   "execution_count": 2,
   "id": "f6d0d607",
   "metadata": {},
   "outputs": [
    {
     "name": "stdout",
     "output_type": "stream",
     "text": [
      "()\n",
      "random_masks.shape=(50, 100, 1)\n"
     ]
    }
   ],
   "source": [
    "# Configuration\n",
    "n_vectors = 50\n",
    "d_in = 100\n",
    "d_out = 1\n",
    "random_seed = 42\n",
    "\n",
    "# Generate random vectors using JAX\n",
    "key = jax.random.key(random_seed)\n",
    "print(key.shape)\n",
    "vector_keys = jax.random.split(key, n_vectors)\n",
    "# vectors = jax.vmap(lambda k: jax.random.normal(k, (d_in,d_out)))(keys)\n",
    "# print(vectors.shape)\n",
    "random_masks = jax.vmap(lambda k: jax.random.bernoulli(k, 0.1, (d_in, d_out)))(vector_keys)\n",
    "print(f\"{random_masks.shape=}\")\n"
   ]
  },
  {
   "cell_type": "code",
   "execution_count": 3,
   "id": "eb3bcfcd",
   "metadata": {},
   "outputs": [
    {
     "name": "stdout",
     "output_type": "stream",
     "text": [
      "(50, 100)\n"
     ]
    }
   ],
   "source": [
    "key, sub_key = jax.random.split(key, 2)\n",
    "g_rand = random_gates(sub_key, 0.1, d_in, d_out, n_vectors)\n",
    "print(g_rand.shape)"
   ]
  },
  {
   "cell_type": "code",
   "execution_count": 4,
   "id": "95d17a91",
   "metadata": {},
   "outputs": [
    {
     "name": "stdout",
     "output_type": "stream",
     "text": [
      "(50, 100)\n",
      "g_determ[0,:].shape=(100,)\n"
     ]
    }
   ],
   "source": [
    "determ_key, key = jax.random.split(key, 2)\n",
    "g_determ = deterministic_gates(determ_key, 0.5, 0.5, d_in, d_out, n_vectors)\n",
    "print(g_determ.shape)\n",
    "print(f\"{g_determ[0,:].shape=}\")\n"
   ]
  },
  {
   "cell_type": "code",
   "execution_count": 9,
   "id": "289a02f1",
   "metadata": {},
   "outputs": [],
   "source": [
    "similarities = jnp.linspace(0,1,11)\n",
    "sparsities = jnp.linspace(0,1,11)\n",
    "n_tasks = 2\n",
    "\n",
    "\n",
    "all_r_overlaps = {}\n",
    "all_d_overlaps = {}\n",
    "for s in sparsities:\n",
    "    r_overlaps = []\n",
    "    r_ones = []\n",
    "    d_overlaps = {}\n",
    "    for v in similarities:\n",
    "        key, r_key, r_key2, d_key, d_key2 = jax.random.split(key, 5)\n",
    "        # generate random vectors\n",
    "        g1_random = random_gates(r_key, s, d_in, d_out, n_vectors)\n",
    "        g2_random = random_gates(r_key2, s, d_in, d_out, n_vectors)\n",
    "        r_overlap = jnp.sum(jnp.multiply(g1_random, g2_random), axis=-1)/d_in # rpts,vect x rpts,vect = rpts,vect; sum over vect to get overlap = (rpts,overlap)\n",
    "        # print(f\"{r_overlap.shape=}\")\n",
    "        r_one = jnp.sum(g1_random) + jnp.sum(g2_random)\n",
    "        r_ones.append(r_one)\n",
    "        r_overlaps.append(r_overlap) \n",
    "        # generate determ vectors\n",
    "        g1_determ = deterministic_gates(d_key, v, s, d_in, d_out, n_vectors)\n",
    "        g2_determ = deterministic_gates(d_key2, v, s, d_in, d_out, n_vectors)\n",
    "        d_overlap = jnp.sum(jnp.multiply(g1_determ, g2_determ), axis=-1)/d_in\n",
    "\n",
    "        # New: Compute counts of ones for each vector\n",
    "        ones_g1 = jnp.sum(g1_determ, axis=-1)  # Shape (n_vectors,)\n",
    "        ones_g2 = jnp.sum(g2_determ, axis=-1)  # Shape (n_vectors,)\n",
    "        all_ones = jnp.concatenate([ones_g1, ones_g2])\n",
    "        # Statistics for ones and zeros\n",
    "        mean_ones = jnp.mean(all_ones)\n",
    "        std_ones = jnp.std(all_ones)\n",
    "\n",
    "\n",
    "        d_overlaps[f\"{v.item():.2f}\"] = {\"mean\": jnp.mean(d_overlap, axis=0).item() , \n",
    "                                         \"std\": jnp.std(d_overlap, axis=0).item(),\n",
    "                                         \"mean_ones\": mean_ones,\n",
    "                                         \"std_ones\": std_ones}\n",
    "    r_stack = jnp.vstack(r_overlaps).T\n",
    "    r_mean, r_std = jnp.mean(r_stack, axis=0), jnp.std(r_stack, axis=0)\n",
    "    r_ones_m, r_ones_std = jnp.mean(jnp.array(r_ones)).item(), jnp.std(jnp.array(r_ones)).item()\n",
    "    all_r_overlaps[f\"{s.item():.2f}\"] = {'mean': r_mean, \"std\": r_std, \"m_ones\": r_ones_m, \"std_ones\":r_ones_std}\n",
    "    all_d_overlaps[f\"{s.item():.2f}\"] = d_overlaps\n",
    "    "
   ]
  },
  {
   "cell_type": "code",
   "execution_count": 10,
   "id": "795913ce",
   "metadata": {},
   "outputs": [
    {
     "data": {
      "application/vnd.plotly.v1+json": {
       "config": {
        "plotlyServerURL": "https://plot.ly"
       },
       "data": [
        {
         "error_y": {
          "array": [
           0.027229396626353264,
           0.024498160928487778,
           0.04329618811607361,
           0.04467840865254402,
           0.050606321543455124,
           0.028258811682462692,
           0,
           0,
           0,
           0,
           0
          ],
          "type": "data",
          "visible": true
         },
         "mode": "lines+markers",
         "name": "sparsity:0.00",
         "type": "scatter",
         "x": [
          "0.00",
          "0.10",
          "0.20",
          "0.30",
          "0.40",
          "0.50",
          "0.60",
          "0.70",
          "0.80",
          "0.90",
          "1.00"
         ],
         "y": [
          0.0583999939262867,
          0.09719999134540558,
          0.19120000302791595,
          0.36719995737075806,
          0.6869999766349792,
          0.9287999272346497,
          1,
          1,
          1,
          1,
          1
         ]
        },
        {
         "error_y": {
          "array": [
           0.016877202317118645,
           0.019519221037626266,
           0.030916662886738777,
           0.03699134662747383,
           0.04746577516198158,
           0.03893379494547844,
           0.006705216132104397,
           0,
           0,
           0,
           0
          ],
          "type": "data",
          "visible": true
         },
         "mode": "lines+markers",
         "name": "sparsity:0.10",
         "type": "scatter",
         "x": [
          "0.00",
          "0.10",
          "0.20",
          "0.30",
          "0.40",
          "0.50",
          "0.60",
          "0.70",
          "0.80",
          "0.90",
          "1.00"
         ],
         "y": [
          0.024599995464086533,
          0.03699999675154686,
          0.10959998518228531,
          0.2457999736070633,
          0.5189999938011169,
          0.8303999900817871,
          0.9951999187469482,
          1,
          1,
          1,
          1
         ]
        },
        {
         "error_y": {
          "array": [
           0.011106754653155804,
           0.009897475130856037,
           0.02416692115366459,
           0.039827629923820496,
           0.05075785517692566,
           0.04105653986334801,
           0.020239567384123802,
           0,
           0,
           0,
           0
          ],
          "type": "data",
          "visible": true
         },
         "mode": "lines+markers",
         "name": "sparsity:0.20",
         "type": "scatter",
         "x": [
          "0.00",
          "0.10",
          "0.20",
          "0.30",
          "0.40",
          "0.50",
          "0.60",
          "0.70",
          "0.80",
          "0.90",
          "1.00"
         ],
         "y": [
          0.009200000204145908,
          0.010199999436736107,
          0.05859999358654022,
          0.1576000154018402,
          0.3741999864578247,
          0.7193999886512756,
          0.9505999684333801,
          1,
          1,
          1,
          1
         ]
        },
        {
         "error_y": {
          "array": [
           0.005810335278511047,
           0.005385165568441153,
           0.014079771935939789,
           0.029949957504868507,
           0.04459820315241814,
           0.05064582824707031,
           0.039342597126960754,
           0,
           0,
           0,
           0
          ],
          "type": "data",
          "visible": true
         },
         "mode": "lines+markers",
         "name": "sparsity:0.30",
         "type": "scatter",
         "x": [
          "0.00",
          "0.10",
          "0.20",
          "0.30",
          "0.40",
          "0.50",
          "0.60",
          "0.70",
          "0.80",
          "0.90",
          "1.00"
         ],
         "y": [
          0.003199999453499913,
          0.0029999995604157448,
          0.01759999990463257,
          0.09499999135732651,
          0.2409999817609787,
          0.5789999961853027,
          0.8595999479293823,
          1,
          1,
          1,
          1
         ]
        },
        {
         "error_y": {
          "array": [
           0.0014000002993270755,
           0,
           0.0027129314839839935,
           0.015620499849319458,
           0.029935933649539948,
           0.04923250898718834,
           0.03988182544708252,
           0.008874675258994102,
           0,
           0,
           0
          ],
          "type": "data",
          "visible": true
         },
         "mode": "lines+markers",
         "name": "sparsity:0.40",
         "type": "scatter",
         "x": [
          "0.00",
          "0.10",
          "0.20",
          "0.30",
          "0.40",
          "0.50",
          "0.60",
          "0.70",
          "0.80",
          "0.90",
          "1.00"
         ],
         "y": [
          0.00019999999494757503,
          0,
          0.0007999999797903001,
          0.03399999439716339,
          0.15280000865459442,
          0.40959998965263367,
          0.738800048828125,
          0.9917998909950256,
          1,
          1,
          1
         ]
        },
        {
         "error_y": {
          "array": [
           0,
           0,
           0,
           0.008999999612569809,
           0.02030172385275364,
           0.04473253712058067,
           0.03571498394012451,
           0.03226453810930252,
           0,
           0,
           0
          ],
          "type": "data",
          "visible": true
         },
         "mode": "lines+markers",
         "name": "sparsity:0.50",
         "type": "scatter",
         "x": [
          "0.00",
          "0.10",
          "0.20",
          "0.30",
          "0.40",
          "0.50",
          "0.60",
          "0.70",
          "0.80",
          "0.90",
          "1.00"
         ],
         "y": [
          0,
          0,
          0,
          0.009000000543892384,
          0.06719999015331268,
          0.2629999816417694,
          0.5738000273704529,
          0.8669999241828918,
          1,
          1,
          1
         ]
        },
        {
         "error_y": {
          "array": [
           0,
           0,
           0,
           0.002712931949645281,
           0.018164800480008125,
           0.033483728766441345,
           0.0548630990087986,
           0.04647579789161682,
           0.0233443770557642,
           0.013712771236896515,
           0.014079771935939789
          ],
          "type": "data",
          "visible": true
         },
         "mode": "lines+markers",
         "name": "sparsity:0.60",
         "type": "scatter",
         "x": [
          "0.00",
          "0.10",
          "0.20",
          "0.30",
          "0.40",
          "0.50",
          "0.60",
          "0.70",
          "0.80",
          "0.90",
          "1.00"
         ],
         "y": [
          0,
          0,
          0,
          0.0007999999797903001,
          0.030199997127056122,
          0.15220001339912415,
          0.4201999604701996,
          0.6959999203681946,
          0.9451998472213745,
          0.9785998463630676,
          0.9823998808860779
         ]
        },
        {
         "error_y": {
          "array": [
           0,
           0,
           0,
           0,
           0.009666437283158302,
           0.022828930988907814,
           0.04908319562673569,
           0.05425900220870972,
           0.04513269290328026,
           0.029608104377985,
           0.02497999183833599
          ],
          "type": "data",
          "visible": true
         },
         "mode": "lines+markers",
         "name": "sparsity:0.70",
         "type": "scatter",
         "x": [
          "0.00",
          "0.10",
          "0.20",
          "0.30",
          "0.40",
          "0.50",
          "0.60",
          "0.70",
          "0.80",
          "0.90",
          "1.00"
         ],
         "y": [
          0,
          0,
          0,
          0,
          0.00839999970048666,
          0.0721999928355217,
          0.2921999990940094,
          0.5213999152183533,
          0.7847999334335327,
          0.9055999517440796,
          0.9239999055862427
         ]
        },
        {
         "error_y": {
          "array": [
           0,
           0,
           0,
           0,
           0.0019595916382968426,
           0.017928749322891235,
           0.03958989307284355,
           0.04821991175413132,
           0.04481785371899605,
           0.042360834777355194,
           0.03380177542567253
          ],
          "type": "data",
          "visible": true
         },
         "mode": "lines+markers",
         "name": "sparsity:0.80",
         "type": "scatter",
         "x": [
          "0.00",
          "0.10",
          "0.20",
          "0.30",
          "0.40",
          "0.50",
          "0.60",
          "0.70",
          "0.80",
          "0.90",
          "1.00"
         ],
         "y": [
          0,
          0,
          0,
          0,
          0.00039999998989515007,
          0.031599994748830795,
          0.18079999089241028,
          0.387800008058548,
          0.6155999898910522,
          0.78659987449646,
          0.8388000130653381
         ]
        },
        {
         "error_y": {
          "array": [
           0,
           0,
           0,
           0,
           0,
           0.012611106038093567,
           0.02867821231484413,
           0.04844832420349121,
           0.05502762645483017,
           0.04816638305783272,
           0.04102145880460739
          ],
          "type": "data",
          "visible": true
         },
         "mode": "lines+markers",
         "name": "sparsity:0.90",
         "type": "scatter",
         "x": [
          "0.00",
          "0.10",
          "0.20",
          "0.30",
          "0.40",
          "0.50",
          "0.60",
          "0.70",
          "0.80",
          "0.90",
          "1.00"
         ],
         "y": [
          0,
          0,
          0,
          0,
          0,
          0.013599998317658901,
          0.0965999960899353,
          0.2825999855995178,
          0.4585999846458435,
          0.6579999923706055,
          0.6981999278068542
         ]
        },
        {
         "error_y": {
          "array": [
           0,
           0,
           0,
           0,
           0,
           0.004599999636411667,
           0.021857721731066704,
           0.033284228295087814,
           0.049902308732271194,
           0.050000403076410294,
           0.048039987683296204
          ],
          "type": "data",
          "visible": true
         },
         "mode": "lines+markers",
         "name": "sparsity:1.00",
         "type": "scatter",
         "x": [
          "0.00",
          "0.10",
          "0.20",
          "0.30",
          "0.40",
          "0.50",
          "0.60",
          "0.70",
          "0.80",
          "0.90",
          "1.00"
         ],
         "y": [
          0,
          0,
          0,
          0,
          0,
          0.0021999997552484274,
          0.04319999739527702,
          0.18039999902248383,
          0.32760000228881836,
          0.4885999262332916,
          0.569599986076355
         ]
        }
       ],
       "layout": {
        "showlegend": true,
        "template": {
         "data": {
          "bar": [
           {
            "error_x": {
             "color": "#2a3f5f"
            },
            "error_y": {
             "color": "#2a3f5f"
            },
            "marker": {
             "line": {
              "color": "#E5ECF6",
              "width": 0.5
             },
             "pattern": {
              "fillmode": "overlay",
              "size": 10,
              "solidity": 0.2
             }
            },
            "type": "bar"
           }
          ],
          "barpolar": [
           {
            "marker": {
             "line": {
              "color": "#E5ECF6",
              "width": 0.5
             },
             "pattern": {
              "fillmode": "overlay",
              "size": 10,
              "solidity": 0.2
             }
            },
            "type": "barpolar"
           }
          ],
          "carpet": [
           {
            "aaxis": {
             "endlinecolor": "#2a3f5f",
             "gridcolor": "white",
             "linecolor": "white",
             "minorgridcolor": "white",
             "startlinecolor": "#2a3f5f"
            },
            "baxis": {
             "endlinecolor": "#2a3f5f",
             "gridcolor": "white",
             "linecolor": "white",
             "minorgridcolor": "white",
             "startlinecolor": "#2a3f5f"
            },
            "type": "carpet"
           }
          ],
          "choropleth": [
           {
            "colorbar": {
             "outlinewidth": 0,
             "ticks": ""
            },
            "type": "choropleth"
           }
          ],
          "contour": [
           {
            "colorbar": {
             "outlinewidth": 0,
             "ticks": ""
            },
            "colorscale": [
             [
              0,
              "#0d0887"
             ],
             [
              0.1111111111111111,
              "#46039f"
             ],
             [
              0.2222222222222222,
              "#7201a8"
             ],
             [
              0.3333333333333333,
              "#9c179e"
             ],
             [
              0.4444444444444444,
              "#bd3786"
             ],
             [
              0.5555555555555556,
              "#d8576b"
             ],
             [
              0.6666666666666666,
              "#ed7953"
             ],
             [
              0.7777777777777778,
              "#fb9f3a"
             ],
             [
              0.8888888888888888,
              "#fdca26"
             ],
             [
              1,
              "#f0f921"
             ]
            ],
            "type": "contour"
           }
          ],
          "contourcarpet": [
           {
            "colorbar": {
             "outlinewidth": 0,
             "ticks": ""
            },
            "type": "contourcarpet"
           }
          ],
          "heatmap": [
           {
            "colorbar": {
             "outlinewidth": 0,
             "ticks": ""
            },
            "colorscale": [
             [
              0,
              "#0d0887"
             ],
             [
              0.1111111111111111,
              "#46039f"
             ],
             [
              0.2222222222222222,
              "#7201a8"
             ],
             [
              0.3333333333333333,
              "#9c179e"
             ],
             [
              0.4444444444444444,
              "#bd3786"
             ],
             [
              0.5555555555555556,
              "#d8576b"
             ],
             [
              0.6666666666666666,
              "#ed7953"
             ],
             [
              0.7777777777777778,
              "#fb9f3a"
             ],
             [
              0.8888888888888888,
              "#fdca26"
             ],
             [
              1,
              "#f0f921"
             ]
            ],
            "type": "heatmap"
           }
          ],
          "heatmapgl": [
           {
            "colorbar": {
             "outlinewidth": 0,
             "ticks": ""
            },
            "colorscale": [
             [
              0,
              "#0d0887"
             ],
             [
              0.1111111111111111,
              "#46039f"
             ],
             [
              0.2222222222222222,
              "#7201a8"
             ],
             [
              0.3333333333333333,
              "#9c179e"
             ],
             [
              0.4444444444444444,
              "#bd3786"
             ],
             [
              0.5555555555555556,
              "#d8576b"
             ],
             [
              0.6666666666666666,
              "#ed7953"
             ],
             [
              0.7777777777777778,
              "#fb9f3a"
             ],
             [
              0.8888888888888888,
              "#fdca26"
             ],
             [
              1,
              "#f0f921"
             ]
            ],
            "type": "heatmapgl"
           }
          ],
          "histogram": [
           {
            "marker": {
             "pattern": {
              "fillmode": "overlay",
              "size": 10,
              "solidity": 0.2
             }
            },
            "type": "histogram"
           }
          ],
          "histogram2d": [
           {
            "colorbar": {
             "outlinewidth": 0,
             "ticks": ""
            },
            "colorscale": [
             [
              0,
              "#0d0887"
             ],
             [
              0.1111111111111111,
              "#46039f"
             ],
             [
              0.2222222222222222,
              "#7201a8"
             ],
             [
              0.3333333333333333,
              "#9c179e"
             ],
             [
              0.4444444444444444,
              "#bd3786"
             ],
             [
              0.5555555555555556,
              "#d8576b"
             ],
             [
              0.6666666666666666,
              "#ed7953"
             ],
             [
              0.7777777777777778,
              "#fb9f3a"
             ],
             [
              0.8888888888888888,
              "#fdca26"
             ],
             [
              1,
              "#f0f921"
             ]
            ],
            "type": "histogram2d"
           }
          ],
          "histogram2dcontour": [
           {
            "colorbar": {
             "outlinewidth": 0,
             "ticks": ""
            },
            "colorscale": [
             [
              0,
              "#0d0887"
             ],
             [
              0.1111111111111111,
              "#46039f"
             ],
             [
              0.2222222222222222,
              "#7201a8"
             ],
             [
              0.3333333333333333,
              "#9c179e"
             ],
             [
              0.4444444444444444,
              "#bd3786"
             ],
             [
              0.5555555555555556,
              "#d8576b"
             ],
             [
              0.6666666666666666,
              "#ed7953"
             ],
             [
              0.7777777777777778,
              "#fb9f3a"
             ],
             [
              0.8888888888888888,
              "#fdca26"
             ],
             [
              1,
              "#f0f921"
             ]
            ],
            "type": "histogram2dcontour"
           }
          ],
          "mesh3d": [
           {
            "colorbar": {
             "outlinewidth": 0,
             "ticks": ""
            },
            "type": "mesh3d"
           }
          ],
          "parcoords": [
           {
            "line": {
             "colorbar": {
              "outlinewidth": 0,
              "ticks": ""
             }
            },
            "type": "parcoords"
           }
          ],
          "pie": [
           {
            "automargin": true,
            "type": "pie"
           }
          ],
          "scatter": [
           {
            "fillpattern": {
             "fillmode": "overlay",
             "size": 10,
             "solidity": 0.2
            },
            "type": "scatter"
           }
          ],
          "scatter3d": [
           {
            "line": {
             "colorbar": {
              "outlinewidth": 0,
              "ticks": ""
             }
            },
            "marker": {
             "colorbar": {
              "outlinewidth": 0,
              "ticks": ""
             }
            },
            "type": "scatter3d"
           }
          ],
          "scattercarpet": [
           {
            "marker": {
             "colorbar": {
              "outlinewidth": 0,
              "ticks": ""
             }
            },
            "type": "scattercarpet"
           }
          ],
          "scattergeo": [
           {
            "marker": {
             "colorbar": {
              "outlinewidth": 0,
              "ticks": ""
             }
            },
            "type": "scattergeo"
           }
          ],
          "scattergl": [
           {
            "marker": {
             "colorbar": {
              "outlinewidth": 0,
              "ticks": ""
             }
            },
            "type": "scattergl"
           }
          ],
          "scattermapbox": [
           {
            "marker": {
             "colorbar": {
              "outlinewidth": 0,
              "ticks": ""
             }
            },
            "type": "scattermapbox"
           }
          ],
          "scatterpolar": [
           {
            "marker": {
             "colorbar": {
              "outlinewidth": 0,
              "ticks": ""
             }
            },
            "type": "scatterpolar"
           }
          ],
          "scatterpolargl": [
           {
            "marker": {
             "colorbar": {
              "outlinewidth": 0,
              "ticks": ""
             }
            },
            "type": "scatterpolargl"
           }
          ],
          "scatterternary": [
           {
            "marker": {
             "colorbar": {
              "outlinewidth": 0,
              "ticks": ""
             }
            },
            "type": "scatterternary"
           }
          ],
          "surface": [
           {
            "colorbar": {
             "outlinewidth": 0,
             "ticks": ""
            },
            "colorscale": [
             [
              0,
              "#0d0887"
             ],
             [
              0.1111111111111111,
              "#46039f"
             ],
             [
              0.2222222222222222,
              "#7201a8"
             ],
             [
              0.3333333333333333,
              "#9c179e"
             ],
             [
              0.4444444444444444,
              "#bd3786"
             ],
             [
              0.5555555555555556,
              "#d8576b"
             ],
             [
              0.6666666666666666,
              "#ed7953"
             ],
             [
              0.7777777777777778,
              "#fb9f3a"
             ],
             [
              0.8888888888888888,
              "#fdca26"
             ],
             [
              1,
              "#f0f921"
             ]
            ],
            "type": "surface"
           }
          ],
          "table": [
           {
            "cells": {
             "fill": {
              "color": "#EBF0F8"
             },
             "line": {
              "color": "white"
             }
            },
            "header": {
             "fill": {
              "color": "#C8D4E3"
             },
             "line": {
              "color": "white"
             }
            },
            "type": "table"
           }
          ]
         },
         "layout": {
          "annotationdefaults": {
           "arrowcolor": "#2a3f5f",
           "arrowhead": 0,
           "arrowwidth": 1
          },
          "autotypenumbers": "strict",
          "coloraxis": {
           "colorbar": {
            "outlinewidth": 0,
            "ticks": ""
           }
          },
          "colorscale": {
           "diverging": [
            [
             0,
             "#8e0152"
            ],
            [
             0.1,
             "#c51b7d"
            ],
            [
             0.2,
             "#de77ae"
            ],
            [
             0.3,
             "#f1b6da"
            ],
            [
             0.4,
             "#fde0ef"
            ],
            [
             0.5,
             "#f7f7f7"
            ],
            [
             0.6,
             "#e6f5d0"
            ],
            [
             0.7,
             "#b8e186"
            ],
            [
             0.8,
             "#7fbc41"
            ],
            [
             0.9,
             "#4d9221"
            ],
            [
             1,
             "#276419"
            ]
           ],
           "sequential": [
            [
             0,
             "#0d0887"
            ],
            [
             0.1111111111111111,
             "#46039f"
            ],
            [
             0.2222222222222222,
             "#7201a8"
            ],
            [
             0.3333333333333333,
             "#9c179e"
            ],
            [
             0.4444444444444444,
             "#bd3786"
            ],
            [
             0.5555555555555556,
             "#d8576b"
            ],
            [
             0.6666666666666666,
             "#ed7953"
            ],
            [
             0.7777777777777778,
             "#fb9f3a"
            ],
            [
             0.8888888888888888,
             "#fdca26"
            ],
            [
             1,
             "#f0f921"
            ]
           ],
           "sequentialminus": [
            [
             0,
             "#0d0887"
            ],
            [
             0.1111111111111111,
             "#46039f"
            ],
            [
             0.2222222222222222,
             "#7201a8"
            ],
            [
             0.3333333333333333,
             "#9c179e"
            ],
            [
             0.4444444444444444,
             "#bd3786"
            ],
            [
             0.5555555555555556,
             "#d8576b"
            ],
            [
             0.6666666666666666,
             "#ed7953"
            ],
            [
             0.7777777777777778,
             "#fb9f3a"
            ],
            [
             0.8888888888888888,
             "#fdca26"
            ],
            [
             1,
             "#f0f921"
            ]
           ]
          },
          "colorway": [
           "#636efa",
           "#EF553B",
           "#00cc96",
           "#ab63fa",
           "#FFA15A",
           "#19d3f3",
           "#FF6692",
           "#B6E880",
           "#FF97FF",
           "#FECB52"
          ],
          "font": {
           "color": "#2a3f5f"
          },
          "geo": {
           "bgcolor": "white",
           "lakecolor": "white",
           "landcolor": "#E5ECF6",
           "showlakes": true,
           "showland": true,
           "subunitcolor": "white"
          },
          "hoverlabel": {
           "align": "left"
          },
          "hovermode": "closest",
          "mapbox": {
           "style": "light"
          },
          "paper_bgcolor": "white",
          "plot_bgcolor": "#E5ECF6",
          "polar": {
           "angularaxis": {
            "gridcolor": "white",
            "linecolor": "white",
            "ticks": ""
           },
           "bgcolor": "#E5ECF6",
           "radialaxis": {
            "gridcolor": "white",
            "linecolor": "white",
            "ticks": ""
           }
          },
          "scene": {
           "xaxis": {
            "backgroundcolor": "#E5ECF6",
            "gridcolor": "white",
            "gridwidth": 2,
            "linecolor": "white",
            "showbackground": true,
            "ticks": "",
            "zerolinecolor": "white"
           },
           "yaxis": {
            "backgroundcolor": "#E5ECF6",
            "gridcolor": "white",
            "gridwidth": 2,
            "linecolor": "white",
            "showbackground": true,
            "ticks": "",
            "zerolinecolor": "white"
           },
           "zaxis": {
            "backgroundcolor": "#E5ECF6",
            "gridcolor": "white",
            "gridwidth": 2,
            "linecolor": "white",
            "showbackground": true,
            "ticks": "",
            "zerolinecolor": "white"
           }
          },
          "shapedefaults": {
           "line": {
            "color": "#2a3f5f"
           }
          },
          "ternary": {
           "aaxis": {
            "gridcolor": "white",
            "linecolor": "white",
            "ticks": ""
           },
           "baxis": {
            "gridcolor": "white",
            "linecolor": "white",
            "ticks": ""
           },
           "bgcolor": "#E5ECF6",
           "caxis": {
            "gridcolor": "white",
            "linecolor": "white",
            "ticks": ""
           }
          },
          "title": {
           "x": 0.05
          },
          "xaxis": {
           "automargin": true,
           "gridcolor": "white",
           "linecolor": "white",
           "ticks": "",
           "title": {
            "standoff": 15
           },
           "zerolinecolor": "white",
           "zerolinewidth": 2
          },
          "yaxis": {
           "automargin": true,
           "gridcolor": "white",
           "linecolor": "white",
           "ticks": "",
           "title": {
            "standoff": 15
           },
           "zerolinecolor": "white",
           "zerolinewidth": 2
          }
         }
        },
        "title": {
         "text": "Deterministic Gates"
        },
        "xaxis": {
         "title": {
          "text": "Task similarity"
         }
        },
        "yaxis": {
         "title": {
          "text": "Overlap Values"
         }
        }
       }
      },
      "text/html": [
       "<div>                            <div id=\"928b794d-644f-43a7-b3af-7673a53b91b9\" class=\"plotly-graph-div\" style=\"height:525px; width:100%;\"></div>            <script type=\"text/javascript\">                require([\"plotly\"], function(Plotly) {                    window.PLOTLYENV=window.PLOTLYENV || {};                                    if (document.getElementById(\"928b794d-644f-43a7-b3af-7673a53b91b9\")) {                    Plotly.newPlot(                        \"928b794d-644f-43a7-b3af-7673a53b91b9\",                        [{\"error_y\":{\"array\":[0.027229396626353264,0.024498160928487778,0.04329618811607361,0.04467840865254402,0.050606321543455124,0.028258811682462692,0.0,0.0,0.0,0.0,0.0],\"type\":\"data\",\"visible\":true},\"mode\":\"lines+markers\",\"name\":\"sparsity:0.00\",\"x\":[\"0.00\",\"0.10\",\"0.20\",\"0.30\",\"0.40\",\"0.50\",\"0.60\",\"0.70\",\"0.80\",\"0.90\",\"1.00\"],\"y\":[0.0583999939262867,0.09719999134540558,0.19120000302791595,0.36719995737075806,0.6869999766349792,0.9287999272346497,1.0,1.0,1.0,1.0,1.0],\"type\":\"scatter\"},{\"error_y\":{\"array\":[0.016877202317118645,0.019519221037626266,0.030916662886738777,0.03699134662747383,0.04746577516198158,0.03893379494547844,0.006705216132104397,0.0,0.0,0.0,0.0],\"type\":\"data\",\"visible\":true},\"mode\":\"lines+markers\",\"name\":\"sparsity:0.10\",\"x\":[\"0.00\",\"0.10\",\"0.20\",\"0.30\",\"0.40\",\"0.50\",\"0.60\",\"0.70\",\"0.80\",\"0.90\",\"1.00\"],\"y\":[0.024599995464086533,0.03699999675154686,0.10959998518228531,0.2457999736070633,0.5189999938011169,0.8303999900817871,0.9951999187469482,1.0,1.0,1.0,1.0],\"type\":\"scatter\"},{\"error_y\":{\"array\":[0.011106754653155804,0.009897475130856037,0.02416692115366459,0.039827629923820496,0.05075785517692566,0.04105653986334801,0.020239567384123802,0.0,0.0,0.0,0.0],\"type\":\"data\",\"visible\":true},\"mode\":\"lines+markers\",\"name\":\"sparsity:0.20\",\"x\":[\"0.00\",\"0.10\",\"0.20\",\"0.30\",\"0.40\",\"0.50\",\"0.60\",\"0.70\",\"0.80\",\"0.90\",\"1.00\"],\"y\":[0.009200000204145908,0.010199999436736107,0.05859999358654022,0.1576000154018402,0.3741999864578247,0.7193999886512756,0.9505999684333801,1.0,1.0,1.0,1.0],\"type\":\"scatter\"},{\"error_y\":{\"array\":[0.005810335278511047,0.005385165568441153,0.014079771935939789,0.029949957504868507,0.04459820315241814,0.05064582824707031,0.039342597126960754,0.0,0.0,0.0,0.0],\"type\":\"data\",\"visible\":true},\"mode\":\"lines+markers\",\"name\":\"sparsity:0.30\",\"x\":[\"0.00\",\"0.10\",\"0.20\",\"0.30\",\"0.40\",\"0.50\",\"0.60\",\"0.70\",\"0.80\",\"0.90\",\"1.00\"],\"y\":[0.003199999453499913,0.0029999995604157448,0.01759999990463257,0.09499999135732651,0.2409999817609787,0.5789999961853027,0.8595999479293823,1.0,1.0,1.0,1.0],\"type\":\"scatter\"},{\"error_y\":{\"array\":[0.0014000002993270755,0.0,0.0027129314839839935,0.015620499849319458,0.029935933649539948,0.04923250898718834,0.03988182544708252,0.008874675258994102,0.0,0.0,0.0],\"type\":\"data\",\"visible\":true},\"mode\":\"lines+markers\",\"name\":\"sparsity:0.40\",\"x\":[\"0.00\",\"0.10\",\"0.20\",\"0.30\",\"0.40\",\"0.50\",\"0.60\",\"0.70\",\"0.80\",\"0.90\",\"1.00\"],\"y\":[0.00019999999494757503,0.0,0.0007999999797903001,0.03399999439716339,0.15280000865459442,0.40959998965263367,0.738800048828125,0.9917998909950256,1.0,1.0,1.0],\"type\":\"scatter\"},{\"error_y\":{\"array\":[0.0,0.0,0.0,0.008999999612569809,0.02030172385275364,0.04473253712058067,0.03571498394012451,0.03226453810930252,0.0,0.0,0.0],\"type\":\"data\",\"visible\":true},\"mode\":\"lines+markers\",\"name\":\"sparsity:0.50\",\"x\":[\"0.00\",\"0.10\",\"0.20\",\"0.30\",\"0.40\",\"0.50\",\"0.60\",\"0.70\",\"0.80\",\"0.90\",\"1.00\"],\"y\":[0.0,0.0,0.0,0.009000000543892384,0.06719999015331268,0.2629999816417694,0.5738000273704529,0.8669999241828918,1.0,1.0,1.0],\"type\":\"scatter\"},{\"error_y\":{\"array\":[0.0,0.0,0.0,0.002712931949645281,0.018164800480008125,0.033483728766441345,0.0548630990087986,0.04647579789161682,0.0233443770557642,0.013712771236896515,0.014079771935939789],\"type\":\"data\",\"visible\":true},\"mode\":\"lines+markers\",\"name\":\"sparsity:0.60\",\"x\":[\"0.00\",\"0.10\",\"0.20\",\"0.30\",\"0.40\",\"0.50\",\"0.60\",\"0.70\",\"0.80\",\"0.90\",\"1.00\"],\"y\":[0.0,0.0,0.0,0.0007999999797903001,0.030199997127056122,0.15220001339912415,0.4201999604701996,0.6959999203681946,0.9451998472213745,0.9785998463630676,0.9823998808860779],\"type\":\"scatter\"},{\"error_y\":{\"array\":[0.0,0.0,0.0,0.0,0.009666437283158302,0.022828930988907814,0.04908319562673569,0.05425900220870972,0.04513269290328026,0.029608104377985,0.02497999183833599],\"type\":\"data\",\"visible\":true},\"mode\":\"lines+markers\",\"name\":\"sparsity:0.70\",\"x\":[\"0.00\",\"0.10\",\"0.20\",\"0.30\",\"0.40\",\"0.50\",\"0.60\",\"0.70\",\"0.80\",\"0.90\",\"1.00\"],\"y\":[0.0,0.0,0.0,0.0,0.00839999970048666,0.0721999928355217,0.2921999990940094,0.5213999152183533,0.7847999334335327,0.9055999517440796,0.9239999055862427],\"type\":\"scatter\"},{\"error_y\":{\"array\":[0.0,0.0,0.0,0.0,0.0019595916382968426,0.017928749322891235,0.03958989307284355,0.04821991175413132,0.04481785371899605,0.042360834777355194,0.03380177542567253],\"type\":\"data\",\"visible\":true},\"mode\":\"lines+markers\",\"name\":\"sparsity:0.80\",\"x\":[\"0.00\",\"0.10\",\"0.20\",\"0.30\",\"0.40\",\"0.50\",\"0.60\",\"0.70\",\"0.80\",\"0.90\",\"1.00\"],\"y\":[0.0,0.0,0.0,0.0,0.00039999998989515007,0.031599994748830795,0.18079999089241028,0.387800008058548,0.6155999898910522,0.78659987449646,0.8388000130653381],\"type\":\"scatter\"},{\"error_y\":{\"array\":[0.0,0.0,0.0,0.0,0.0,0.012611106038093567,0.02867821231484413,0.04844832420349121,0.05502762645483017,0.04816638305783272,0.04102145880460739],\"type\":\"data\",\"visible\":true},\"mode\":\"lines+markers\",\"name\":\"sparsity:0.90\",\"x\":[\"0.00\",\"0.10\",\"0.20\",\"0.30\",\"0.40\",\"0.50\",\"0.60\",\"0.70\",\"0.80\",\"0.90\",\"1.00\"],\"y\":[0.0,0.0,0.0,0.0,0.0,0.013599998317658901,0.0965999960899353,0.2825999855995178,0.4585999846458435,0.6579999923706055,0.6981999278068542],\"type\":\"scatter\"},{\"error_y\":{\"array\":[0.0,0.0,0.0,0.0,0.0,0.004599999636411667,0.021857721731066704,0.033284228295087814,0.049902308732271194,0.050000403076410294,0.048039987683296204],\"type\":\"data\",\"visible\":true},\"mode\":\"lines+markers\",\"name\":\"sparsity:1.00\",\"x\":[\"0.00\",\"0.10\",\"0.20\",\"0.30\",\"0.40\",\"0.50\",\"0.60\",\"0.70\",\"0.80\",\"0.90\",\"1.00\"],\"y\":[0.0,0.0,0.0,0.0,0.0,0.0021999997552484274,0.04319999739527702,0.18039999902248383,0.32760000228881836,0.4885999262332916,0.569599986076355],\"type\":\"scatter\"}],                        {\"template\":{\"data\":{\"histogram2dcontour\":[{\"type\":\"histogram2dcontour\",\"colorbar\":{\"outlinewidth\":0,\"ticks\":\"\"},\"colorscale\":[[0.0,\"#0d0887\"],[0.1111111111111111,\"#46039f\"],[0.2222222222222222,\"#7201a8\"],[0.3333333333333333,\"#9c179e\"],[0.4444444444444444,\"#bd3786\"],[0.5555555555555556,\"#d8576b\"],[0.6666666666666666,\"#ed7953\"],[0.7777777777777778,\"#fb9f3a\"],[0.8888888888888888,\"#fdca26\"],[1.0,\"#f0f921\"]]}],\"choropleth\":[{\"type\":\"choropleth\",\"colorbar\":{\"outlinewidth\":0,\"ticks\":\"\"}}],\"histogram2d\":[{\"type\":\"histogram2d\",\"colorbar\":{\"outlinewidth\":0,\"ticks\":\"\"},\"colorscale\":[[0.0,\"#0d0887\"],[0.1111111111111111,\"#46039f\"],[0.2222222222222222,\"#7201a8\"],[0.3333333333333333,\"#9c179e\"],[0.4444444444444444,\"#bd3786\"],[0.5555555555555556,\"#d8576b\"],[0.6666666666666666,\"#ed7953\"],[0.7777777777777778,\"#fb9f3a\"],[0.8888888888888888,\"#fdca26\"],[1.0,\"#f0f921\"]]}],\"heatmap\":[{\"type\":\"heatmap\",\"colorbar\":{\"outlinewidth\":0,\"ticks\":\"\"},\"colorscale\":[[0.0,\"#0d0887\"],[0.1111111111111111,\"#46039f\"],[0.2222222222222222,\"#7201a8\"],[0.3333333333333333,\"#9c179e\"],[0.4444444444444444,\"#bd3786\"],[0.5555555555555556,\"#d8576b\"],[0.6666666666666666,\"#ed7953\"],[0.7777777777777778,\"#fb9f3a\"],[0.8888888888888888,\"#fdca26\"],[1.0,\"#f0f921\"]]}],\"heatmapgl\":[{\"type\":\"heatmapgl\",\"colorbar\":{\"outlinewidth\":0,\"ticks\":\"\"},\"colorscale\":[[0.0,\"#0d0887\"],[0.1111111111111111,\"#46039f\"],[0.2222222222222222,\"#7201a8\"],[0.3333333333333333,\"#9c179e\"],[0.4444444444444444,\"#bd3786\"],[0.5555555555555556,\"#d8576b\"],[0.6666666666666666,\"#ed7953\"],[0.7777777777777778,\"#fb9f3a\"],[0.8888888888888888,\"#fdca26\"],[1.0,\"#f0f921\"]]}],\"contourcarpet\":[{\"type\":\"contourcarpet\",\"colorbar\":{\"outlinewidth\":0,\"ticks\":\"\"}}],\"contour\":[{\"type\":\"contour\",\"colorbar\":{\"outlinewidth\":0,\"ticks\":\"\"},\"colorscale\":[[0.0,\"#0d0887\"],[0.1111111111111111,\"#46039f\"],[0.2222222222222222,\"#7201a8\"],[0.3333333333333333,\"#9c179e\"],[0.4444444444444444,\"#bd3786\"],[0.5555555555555556,\"#d8576b\"],[0.6666666666666666,\"#ed7953\"],[0.7777777777777778,\"#fb9f3a\"],[0.8888888888888888,\"#fdca26\"],[1.0,\"#f0f921\"]]}],\"surface\":[{\"type\":\"surface\",\"colorbar\":{\"outlinewidth\":0,\"ticks\":\"\"},\"colorscale\":[[0.0,\"#0d0887\"],[0.1111111111111111,\"#46039f\"],[0.2222222222222222,\"#7201a8\"],[0.3333333333333333,\"#9c179e\"],[0.4444444444444444,\"#bd3786\"],[0.5555555555555556,\"#d8576b\"],[0.6666666666666666,\"#ed7953\"],[0.7777777777777778,\"#fb9f3a\"],[0.8888888888888888,\"#fdca26\"],[1.0,\"#f0f921\"]]}],\"mesh3d\":[{\"type\":\"mesh3d\",\"colorbar\":{\"outlinewidth\":0,\"ticks\":\"\"}}],\"scatter\":[{\"fillpattern\":{\"fillmode\":\"overlay\",\"size\":10,\"solidity\":0.2},\"type\":\"scatter\"}],\"parcoords\":[{\"type\":\"parcoords\",\"line\":{\"colorbar\":{\"outlinewidth\":0,\"ticks\":\"\"}}}],\"scatterpolargl\":[{\"type\":\"scatterpolargl\",\"marker\":{\"colorbar\":{\"outlinewidth\":0,\"ticks\":\"\"}}}],\"bar\":[{\"error_x\":{\"color\":\"#2a3f5f\"},\"error_y\":{\"color\":\"#2a3f5f\"},\"marker\":{\"line\":{\"color\":\"#E5ECF6\",\"width\":0.5},\"pattern\":{\"fillmode\":\"overlay\",\"size\":10,\"solidity\":0.2}},\"type\":\"bar\"}],\"scattergeo\":[{\"type\":\"scattergeo\",\"marker\":{\"colorbar\":{\"outlinewidth\":0,\"ticks\":\"\"}}}],\"scatterpolar\":[{\"type\":\"scatterpolar\",\"marker\":{\"colorbar\":{\"outlinewidth\":0,\"ticks\":\"\"}}}],\"histogram\":[{\"marker\":{\"pattern\":{\"fillmode\":\"overlay\",\"size\":10,\"solidity\":0.2}},\"type\":\"histogram\"}],\"scattergl\":[{\"type\":\"scattergl\",\"marker\":{\"colorbar\":{\"outlinewidth\":0,\"ticks\":\"\"}}}],\"scatter3d\":[{\"type\":\"scatter3d\",\"line\":{\"colorbar\":{\"outlinewidth\":0,\"ticks\":\"\"}},\"marker\":{\"colorbar\":{\"outlinewidth\":0,\"ticks\":\"\"}}}],\"scattermapbox\":[{\"type\":\"scattermapbox\",\"marker\":{\"colorbar\":{\"outlinewidth\":0,\"ticks\":\"\"}}}],\"scatterternary\":[{\"type\":\"scatterternary\",\"marker\":{\"colorbar\":{\"outlinewidth\":0,\"ticks\":\"\"}}}],\"scattercarpet\":[{\"type\":\"scattercarpet\",\"marker\":{\"colorbar\":{\"outlinewidth\":0,\"ticks\":\"\"}}}],\"carpet\":[{\"aaxis\":{\"endlinecolor\":\"#2a3f5f\",\"gridcolor\":\"white\",\"linecolor\":\"white\",\"minorgridcolor\":\"white\",\"startlinecolor\":\"#2a3f5f\"},\"baxis\":{\"endlinecolor\":\"#2a3f5f\",\"gridcolor\":\"white\",\"linecolor\":\"white\",\"minorgridcolor\":\"white\",\"startlinecolor\":\"#2a3f5f\"},\"type\":\"carpet\"}],\"table\":[{\"cells\":{\"fill\":{\"color\":\"#EBF0F8\"},\"line\":{\"color\":\"white\"}},\"header\":{\"fill\":{\"color\":\"#C8D4E3\"},\"line\":{\"color\":\"white\"}},\"type\":\"table\"}],\"barpolar\":[{\"marker\":{\"line\":{\"color\":\"#E5ECF6\",\"width\":0.5},\"pattern\":{\"fillmode\":\"overlay\",\"size\":10,\"solidity\":0.2}},\"type\":\"barpolar\"}],\"pie\":[{\"automargin\":true,\"type\":\"pie\"}]},\"layout\":{\"autotypenumbers\":\"strict\",\"colorway\":[\"#636efa\",\"#EF553B\",\"#00cc96\",\"#ab63fa\",\"#FFA15A\",\"#19d3f3\",\"#FF6692\",\"#B6E880\",\"#FF97FF\",\"#FECB52\"],\"font\":{\"color\":\"#2a3f5f\"},\"hovermode\":\"closest\",\"hoverlabel\":{\"align\":\"left\"},\"paper_bgcolor\":\"white\",\"plot_bgcolor\":\"#E5ECF6\",\"polar\":{\"bgcolor\":\"#E5ECF6\",\"angularaxis\":{\"gridcolor\":\"white\",\"linecolor\":\"white\",\"ticks\":\"\"},\"radialaxis\":{\"gridcolor\":\"white\",\"linecolor\":\"white\",\"ticks\":\"\"}},\"ternary\":{\"bgcolor\":\"#E5ECF6\",\"aaxis\":{\"gridcolor\":\"white\",\"linecolor\":\"white\",\"ticks\":\"\"},\"baxis\":{\"gridcolor\":\"white\",\"linecolor\":\"white\",\"ticks\":\"\"},\"caxis\":{\"gridcolor\":\"white\",\"linecolor\":\"white\",\"ticks\":\"\"}},\"coloraxis\":{\"colorbar\":{\"outlinewidth\":0,\"ticks\":\"\"}},\"colorscale\":{\"sequential\":[[0.0,\"#0d0887\"],[0.1111111111111111,\"#46039f\"],[0.2222222222222222,\"#7201a8\"],[0.3333333333333333,\"#9c179e\"],[0.4444444444444444,\"#bd3786\"],[0.5555555555555556,\"#d8576b\"],[0.6666666666666666,\"#ed7953\"],[0.7777777777777778,\"#fb9f3a\"],[0.8888888888888888,\"#fdca26\"],[1.0,\"#f0f921\"]],\"sequentialminus\":[[0.0,\"#0d0887\"],[0.1111111111111111,\"#46039f\"],[0.2222222222222222,\"#7201a8\"],[0.3333333333333333,\"#9c179e\"],[0.4444444444444444,\"#bd3786\"],[0.5555555555555556,\"#d8576b\"],[0.6666666666666666,\"#ed7953\"],[0.7777777777777778,\"#fb9f3a\"],[0.8888888888888888,\"#fdca26\"],[1.0,\"#f0f921\"]],\"diverging\":[[0,\"#8e0152\"],[0.1,\"#c51b7d\"],[0.2,\"#de77ae\"],[0.3,\"#f1b6da\"],[0.4,\"#fde0ef\"],[0.5,\"#f7f7f7\"],[0.6,\"#e6f5d0\"],[0.7,\"#b8e186\"],[0.8,\"#7fbc41\"],[0.9,\"#4d9221\"],[1,\"#276419\"]]},\"xaxis\":{\"gridcolor\":\"white\",\"linecolor\":\"white\",\"ticks\":\"\",\"title\":{\"standoff\":15},\"zerolinecolor\":\"white\",\"automargin\":true,\"zerolinewidth\":2},\"yaxis\":{\"gridcolor\":\"white\",\"linecolor\":\"white\",\"ticks\":\"\",\"title\":{\"standoff\":15},\"zerolinecolor\":\"white\",\"automargin\":true,\"zerolinewidth\":2},\"scene\":{\"xaxis\":{\"backgroundcolor\":\"#E5ECF6\",\"gridcolor\":\"white\",\"linecolor\":\"white\",\"showbackground\":true,\"ticks\":\"\",\"zerolinecolor\":\"white\",\"gridwidth\":2},\"yaxis\":{\"backgroundcolor\":\"#E5ECF6\",\"gridcolor\":\"white\",\"linecolor\":\"white\",\"showbackground\":true,\"ticks\":\"\",\"zerolinecolor\":\"white\",\"gridwidth\":2},\"zaxis\":{\"backgroundcolor\":\"#E5ECF6\",\"gridcolor\":\"white\",\"linecolor\":\"white\",\"showbackground\":true,\"ticks\":\"\",\"zerolinecolor\":\"white\",\"gridwidth\":2}},\"shapedefaults\":{\"line\":{\"color\":\"#2a3f5f\"}},\"annotationdefaults\":{\"arrowcolor\":\"#2a3f5f\",\"arrowhead\":0,\"arrowwidth\":1},\"geo\":{\"bgcolor\":\"white\",\"landcolor\":\"#E5ECF6\",\"subunitcolor\":\"white\",\"showland\":true,\"showlakes\":true,\"lakecolor\":\"white\"},\"title\":{\"x\":0.05},\"mapbox\":{\"style\":\"light\"}}},\"showlegend\":true,\"title\":{\"text\":\"Deterministic Gates\"},\"xaxis\":{\"title\":{\"text\":\"Task similarity\"}},\"yaxis\":{\"title\":{\"text\":\"Overlap Values\"}}},                        {\"responsive\": true}                    ).then(function(){\n",
       "                            \n",
       "var gd = document.getElementById('928b794d-644f-43a7-b3af-7673a53b91b9');\n",
       "var x = new MutationObserver(function (mutations, observer) {{\n",
       "        var display = window.getComputedStyle(gd).display;\n",
       "        if (!display || display === 'none') {{\n",
       "            console.log([gd, 'removed!']);\n",
       "            Plotly.purge(gd);\n",
       "            observer.disconnect();\n",
       "        }}\n",
       "}});\n",
       "\n",
       "// Listen for the removal of the full notebook cells\n",
       "var notebookContainer = gd.closest('#notebook-container');\n",
       "if (notebookContainer) {{\n",
       "    x.observe(notebookContainer, {childList: true});\n",
       "}}\n",
       "\n",
       "// Listen for the clearing of the current output cell\n",
       "var outputEl = gd.closest('.output');\n",
       "if (outputEl) {{\n",
       "    x.observe(outputEl, {childList: true});\n",
       "}}\n",
       "\n",
       "                        })                };                });            </script>        </div>"
      ]
     },
     "metadata": {},
     "output_type": "display_data"
    },
    {
     "data": {
      "application/vnd.plotly.v1+json": {
       "config": {
        "plotlyServerURL": "https://plot.ly"
       },
       "data": [
        {
         "error_y": {
          "array": [
           4.146371841430664,
           4.413434028625488,
           4.622239589691162,
           5.4138617515563965,
           3.860103130340576,
           1.9269404411315918,
           0,
           0,
           0,
           0,
           0
          ],
          "type": "data",
          "visible": true
         },
         "mode": "lines+markers",
         "name": "sparsity:0.00",
         "type": "scatter",
         "x": [
          "0.00",
          "0.10",
          "0.20",
          "0.30",
          "0.40",
          "0.50",
          "0.60",
          "0.70",
          "0.80",
          "0.90",
          "1.00"
         ],
         "y": [
          24.260000228881836,
          30.959999084472656,
          43.43000030517578,
          60.5099983215332,
          82.86000061035156,
          96.3699951171875,
          100,
          100,
          100,
          100,
          100
         ]
        },
        {
         "error_y": {
          "array": [
           3.618438720703125,
           4.005733489990234,
           4.4878058433532715,
           4.600815296173096,
           3.9874303340911865,
           2.9853644371032715,
           0.4715930223464966,
           0,
           0,
           0,
           0
          ],
          "type": "data",
          "visible": true
         },
         "mode": "lines+markers",
         "name": "sparsity:0.10",
         "type": "scatter",
         "x": [
          "0.00",
          "0.10",
          "0.20",
          "0.30",
          "0.40",
          "0.50",
          "0.60",
          "0.70",
          "0.80",
          "0.90",
          "1.00"
         ],
         "y": [
          15.869999885559082,
          20.209999084472656,
          33.13999938964844,
          49.54999923706055,
          72.0199966430664,
          91.25999450683594,
          99.75999450683594,
          100,
          100,
          100,
          100
         ]
        },
        {
         "error_y": {
          "array": [
           2.9342801570892334,
           2.8631973266601562,
           3.8577067852020264,
           5.0486040115356445,
           5.091670036315918,
           3.3695547580718994,
           1.452274203300476,
           0,
           0,
           0,
           0
          ],
          "type": "data",
          "visible": true
         },
         "mode": "lines+markers",
         "name": "sparsity:0.20",
         "type": "scatter",
         "x": [
          "0.00",
          "0.10",
          "0.20",
          "0.30",
          "0.40",
          "0.50",
          "0.60",
          "0.70",
          "0.80",
          "0.90",
          "1.00"
         ],
         "y": [
          9.09999942779541,
          11.109999656677246,
          24.09000015258789,
          39.540000915527344,
          61.06999969482422,
          84.68999481201172,
          97.47000122070312,
          100,
          100,
          100,
          100
         ]
        },
        {
         "error_y": {
          "array": [
           1.9646881818771362,
           2.2377443313598633,
           3.6085867881774902,
           4.343858242034912,
           5.239809036254883,
           3.9917917251586914,
           2.670935869216919,
           0,
           0,
           0,
           0
          ],
          "type": "data",
          "visible": true
         },
         "mode": "lines+markers",
         "name": "sparsity:0.30",
         "type": "scatter",
         "x": [
          "0.00",
          "0.10",
          "0.20",
          "0.30",
          "0.40",
          "0.50",
          "0.60",
          "0.70",
          "0.80",
          "0.90",
          "1.00"
         ],
         "y": [
          4.400000095367432,
          5.25,
          14.09000015258789,
          30.029998779296875,
          49.37999725341797,
          75.83999633789062,
          92.68999481201172,
          100,
          100,
          100,
          100
         ]
        },
        {
         "error_y": {
          "array": [
           1.103811502456665,
           1.0331987142562866,
           1.6510300636291504,
           4.039356231689453,
           4.43211030960083,
           4.832090377807617,
           3.490788221359253,
           0.5673624277114868,
           0,
           0,
           0
          ],
          "type": "data",
          "visible": true
         },
         "mode": "lines+markers",
         "name": "sparsity:0.40",
         "type": "scatter",
         "x": [
          "0.00",
          "0.10",
          "0.20",
          "0.30",
          "0.40",
          "0.50",
          "0.60",
          "0.70",
          "0.80",
          "0.90",
          "1.00"
         ],
         "y": [
          1.0399999618530273,
          1.149999976158142,
          3.7099997997283936,
          18.939998626708984,
          38.57999801635742,
          63.96999740600586,
          86.1199951171875,
          99.58999633789062,
          100,
          100,
          100
         ]
        },
        {
         "error_y": {
          "array": [
           0,
           0,
           0,
           2.8616602420806885,
           4.485298156738281,
           5.037250518798828,
           3.656487226486206,
           2.646714925765991,
           0,
           0,
           0
          ],
          "type": "data",
          "visible": true
         },
         "mode": "lines+markers",
         "name": "sparsity:0.50",
         "type": "scatter",
         "x": [
          "0.00",
          "0.10",
          "0.20",
          "0.30",
          "0.40",
          "0.50",
          "0.60",
          "0.70",
          "0.80",
          "0.90",
          "1.00"
         ],
         "y": [
          0,
          0,
          0,
          9.029999732971191,
          26.389999389648438,
          51.30999755859375,
          76.00999450683594,
          93.06999969482422,
          100,
          100,
          100
         ]
        },
        {
         "error_y": {
          "array": [
           0,
           0,
           0,
           1.1700855493545532,
           3.802354335784912,
           4.375968933105469,
           5.368528366088867,
           3.583294630050659,
           1.6740370988845825,
           0.9301074743270874,
           0.9410632252693176
          ],
          "type": "data",
          "visible": true
         },
         "mode": "lines+markers",
         "name": "sparsity:0.60",
         "type": "scatter",
         "x": [
          "0.00",
          "0.10",
          "0.20",
          "0.30",
          "0.40",
          "0.50",
          "0.60",
          "0.70",
          "0.80",
          "0.90",
          "1.00"
         ],
         "y": [
          0,
          0,
          0,
          1.5299999713897705,
          17.389999389648438,
          39.029998779296875,
          64.83000183105469,
          83.4000015258789,
          97.23999786376953,
          98.93000030517578,
          99.1199951171875
         ]
        },
        {
         "error_y": {
          "array": [
           0,
           0,
           0,
           0,
           2.7143137454986572,
           4.270643711090088,
           5.1280012130737305,
           4.950504779815674,
           3.364520788192749,
           2.0873665809631348,
           1.8379064798355103
          ],
          "type": "data",
          "visible": true
         },
         "mode": "lines+markers",
         "name": "sparsity:0.70",
         "type": "scatter",
         "x": [
          "0.00",
          "0.10",
          "0.20",
          "0.30",
          "0.40",
          "0.50",
          "0.60",
          "0.70",
          "0.80",
          "0.90",
          "1.00"
         ],
         "y": [
          0,
          0,
          0,
          0,
          8.84999942779541,
          27.03999900817871,
          53.939998626708984,
          72.44999694824219,
          88.5999984741211,
          95.22999572753906,
          96.11000061035156
         ]
        },
        {
         "error_y": {
          "array": [
           0,
           0,
           0,
           0,
           1.7029386758804321,
           3.7799999713897705,
           4.721609592437744,
           4.753640651702881,
           4.242122173309326,
           3.324394702911377,
           2.5616207122802734
          ],
          "type": "data",
          "visible": true
         },
         "mode": "lines+markers",
         "name": "sparsity:0.80",
         "type": "scatter",
         "x": [
          "0.00",
          "0.10",
          "0.20",
          "0.30",
          "0.40",
          "0.50",
          "0.60",
          "0.70",
          "0.80",
          "0.90",
          "1.00"
         ],
         "y": [
          0,
          0,
          0,
          0,
          3.799999952316284,
          17.459999084472656,
          43.07999801635742,
          62.27000045776367,
          78.37999725341797,
          88.77999877929688,
          91.58999633789062
         ]
        },
        {
         "error_y": {
          "array": [
           0,
           0,
           0,
           0,
           0.6974238157272339,
           3.054570436477661,
           4.853287696838379,
           4.9248247146606445,
           4.6512250900268555,
           3.813344955444336,
           3.4810774326324463
          ],
          "type": "data",
          "visible": true
         },
         "mode": "lines+markers",
         "name": "sparsity:0.90",
         "type": "scatter",
         "x": [
          "0.00",
          "0.10",
          "0.20",
          "0.30",
          "0.40",
          "0.50",
          "0.60",
          "0.70",
          "0.80",
          "0.90",
          "1.00"
         ],
         "y": [
          0,
          0,
          0,
          0,
          0.5600000023841858,
          10.359999656677246,
          31.15999984741211,
          52.689998626708984,
          67.80999755859375,
          81.27999877929688,
          83.61000061035156
         ]
        },
        {
         "error_y": {
          "array": [
           0,
           0,
           0,
           0,
           0,
           2.365671157836914,
           3.8574602603912354,
           4.682424545288086,
           5.56215763092041,
           4.647107124328613,
           4.453582763671875
          ],
          "type": "data",
          "visible": true
         },
         "mode": "lines+markers",
         "name": "sparsity:1.00",
         "type": "scatter",
         "x": [
          "0.00",
          "0.10",
          "0.20",
          "0.30",
          "0.40",
          "0.50",
          "0.60",
          "0.70",
          "0.80",
          "0.90",
          "1.00"
         ],
         "y": [
          0,
          0,
          0,
          0,
          0,
          5.059999942779541,
          20,
          42.43000030517578,
          57.68000030517578,
          70.37999725341797,
          75.15999603271484
         ]
        }
       ],
       "layout": {
        "showlegend": true,
        "template": {
         "data": {
          "bar": [
           {
            "error_x": {
             "color": "#2a3f5f"
            },
            "error_y": {
             "color": "#2a3f5f"
            },
            "marker": {
             "line": {
              "color": "#E5ECF6",
              "width": 0.5
             },
             "pattern": {
              "fillmode": "overlay",
              "size": 10,
              "solidity": 0.2
             }
            },
            "type": "bar"
           }
          ],
          "barpolar": [
           {
            "marker": {
             "line": {
              "color": "#E5ECF6",
              "width": 0.5
             },
             "pattern": {
              "fillmode": "overlay",
              "size": 10,
              "solidity": 0.2
             }
            },
            "type": "barpolar"
           }
          ],
          "carpet": [
           {
            "aaxis": {
             "endlinecolor": "#2a3f5f",
             "gridcolor": "white",
             "linecolor": "white",
             "minorgridcolor": "white",
             "startlinecolor": "#2a3f5f"
            },
            "baxis": {
             "endlinecolor": "#2a3f5f",
             "gridcolor": "white",
             "linecolor": "white",
             "minorgridcolor": "white",
             "startlinecolor": "#2a3f5f"
            },
            "type": "carpet"
           }
          ],
          "choropleth": [
           {
            "colorbar": {
             "outlinewidth": 0,
             "ticks": ""
            },
            "type": "choropleth"
           }
          ],
          "contour": [
           {
            "colorbar": {
             "outlinewidth": 0,
             "ticks": ""
            },
            "colorscale": [
             [
              0,
              "#0d0887"
             ],
             [
              0.1111111111111111,
              "#46039f"
             ],
             [
              0.2222222222222222,
              "#7201a8"
             ],
             [
              0.3333333333333333,
              "#9c179e"
             ],
             [
              0.4444444444444444,
              "#bd3786"
             ],
             [
              0.5555555555555556,
              "#d8576b"
             ],
             [
              0.6666666666666666,
              "#ed7953"
             ],
             [
              0.7777777777777778,
              "#fb9f3a"
             ],
             [
              0.8888888888888888,
              "#fdca26"
             ],
             [
              1,
              "#f0f921"
             ]
            ],
            "type": "contour"
           }
          ],
          "contourcarpet": [
           {
            "colorbar": {
             "outlinewidth": 0,
             "ticks": ""
            },
            "type": "contourcarpet"
           }
          ],
          "heatmap": [
           {
            "colorbar": {
             "outlinewidth": 0,
             "ticks": ""
            },
            "colorscale": [
             [
              0,
              "#0d0887"
             ],
             [
              0.1111111111111111,
              "#46039f"
             ],
             [
              0.2222222222222222,
              "#7201a8"
             ],
             [
              0.3333333333333333,
              "#9c179e"
             ],
             [
              0.4444444444444444,
              "#bd3786"
             ],
             [
              0.5555555555555556,
              "#d8576b"
             ],
             [
              0.6666666666666666,
              "#ed7953"
             ],
             [
              0.7777777777777778,
              "#fb9f3a"
             ],
             [
              0.8888888888888888,
              "#fdca26"
             ],
             [
              1,
              "#f0f921"
             ]
            ],
            "type": "heatmap"
           }
          ],
          "heatmapgl": [
           {
            "colorbar": {
             "outlinewidth": 0,
             "ticks": ""
            },
            "colorscale": [
             [
              0,
              "#0d0887"
             ],
             [
              0.1111111111111111,
              "#46039f"
             ],
             [
              0.2222222222222222,
              "#7201a8"
             ],
             [
              0.3333333333333333,
              "#9c179e"
             ],
             [
              0.4444444444444444,
              "#bd3786"
             ],
             [
              0.5555555555555556,
              "#d8576b"
             ],
             [
              0.6666666666666666,
              "#ed7953"
             ],
             [
              0.7777777777777778,
              "#fb9f3a"
             ],
             [
              0.8888888888888888,
              "#fdca26"
             ],
             [
              1,
              "#f0f921"
             ]
            ],
            "type": "heatmapgl"
           }
          ],
          "histogram": [
           {
            "marker": {
             "pattern": {
              "fillmode": "overlay",
              "size": 10,
              "solidity": 0.2
             }
            },
            "type": "histogram"
           }
          ],
          "histogram2d": [
           {
            "colorbar": {
             "outlinewidth": 0,
             "ticks": ""
            },
            "colorscale": [
             [
              0,
              "#0d0887"
             ],
             [
              0.1111111111111111,
              "#46039f"
             ],
             [
              0.2222222222222222,
              "#7201a8"
             ],
             [
              0.3333333333333333,
              "#9c179e"
             ],
             [
              0.4444444444444444,
              "#bd3786"
             ],
             [
              0.5555555555555556,
              "#d8576b"
             ],
             [
              0.6666666666666666,
              "#ed7953"
             ],
             [
              0.7777777777777778,
              "#fb9f3a"
             ],
             [
              0.8888888888888888,
              "#fdca26"
             ],
             [
              1,
              "#f0f921"
             ]
            ],
            "type": "histogram2d"
           }
          ],
          "histogram2dcontour": [
           {
            "colorbar": {
             "outlinewidth": 0,
             "ticks": ""
            },
            "colorscale": [
             [
              0,
              "#0d0887"
             ],
             [
              0.1111111111111111,
              "#46039f"
             ],
             [
              0.2222222222222222,
              "#7201a8"
             ],
             [
              0.3333333333333333,
              "#9c179e"
             ],
             [
              0.4444444444444444,
              "#bd3786"
             ],
             [
              0.5555555555555556,
              "#d8576b"
             ],
             [
              0.6666666666666666,
              "#ed7953"
             ],
             [
              0.7777777777777778,
              "#fb9f3a"
             ],
             [
              0.8888888888888888,
              "#fdca26"
             ],
             [
              1,
              "#f0f921"
             ]
            ],
            "type": "histogram2dcontour"
           }
          ],
          "mesh3d": [
           {
            "colorbar": {
             "outlinewidth": 0,
             "ticks": ""
            },
            "type": "mesh3d"
           }
          ],
          "parcoords": [
           {
            "line": {
             "colorbar": {
              "outlinewidth": 0,
              "ticks": ""
             }
            },
            "type": "parcoords"
           }
          ],
          "pie": [
           {
            "automargin": true,
            "type": "pie"
           }
          ],
          "scatter": [
           {
            "fillpattern": {
             "fillmode": "overlay",
             "size": 10,
             "solidity": 0.2
            },
            "type": "scatter"
           }
          ],
          "scatter3d": [
           {
            "line": {
             "colorbar": {
              "outlinewidth": 0,
              "ticks": ""
             }
            },
            "marker": {
             "colorbar": {
              "outlinewidth": 0,
              "ticks": ""
             }
            },
            "type": "scatter3d"
           }
          ],
          "scattercarpet": [
           {
            "marker": {
             "colorbar": {
              "outlinewidth": 0,
              "ticks": ""
             }
            },
            "type": "scattercarpet"
           }
          ],
          "scattergeo": [
           {
            "marker": {
             "colorbar": {
              "outlinewidth": 0,
              "ticks": ""
             }
            },
            "type": "scattergeo"
           }
          ],
          "scattergl": [
           {
            "marker": {
             "colorbar": {
              "outlinewidth": 0,
              "ticks": ""
             }
            },
            "type": "scattergl"
           }
          ],
          "scattermapbox": [
           {
            "marker": {
             "colorbar": {
              "outlinewidth": 0,
              "ticks": ""
             }
            },
            "type": "scattermapbox"
           }
          ],
          "scatterpolar": [
           {
            "marker": {
             "colorbar": {
              "outlinewidth": 0,
              "ticks": ""
             }
            },
            "type": "scatterpolar"
           }
          ],
          "scatterpolargl": [
           {
            "marker": {
             "colorbar": {
              "outlinewidth": 0,
              "ticks": ""
             }
            },
            "type": "scatterpolargl"
           }
          ],
          "scatterternary": [
           {
            "marker": {
             "colorbar": {
              "outlinewidth": 0,
              "ticks": ""
             }
            },
            "type": "scatterternary"
           }
          ],
          "surface": [
           {
            "colorbar": {
             "outlinewidth": 0,
             "ticks": ""
            },
            "colorscale": [
             [
              0,
              "#0d0887"
             ],
             [
              0.1111111111111111,
              "#46039f"
             ],
             [
              0.2222222222222222,
              "#7201a8"
             ],
             [
              0.3333333333333333,
              "#9c179e"
             ],
             [
              0.4444444444444444,
              "#bd3786"
             ],
             [
              0.5555555555555556,
              "#d8576b"
             ],
             [
              0.6666666666666666,
              "#ed7953"
             ],
             [
              0.7777777777777778,
              "#fb9f3a"
             ],
             [
              0.8888888888888888,
              "#fdca26"
             ],
             [
              1,
              "#f0f921"
             ]
            ],
            "type": "surface"
           }
          ],
          "table": [
           {
            "cells": {
             "fill": {
              "color": "#EBF0F8"
             },
             "line": {
              "color": "white"
             }
            },
            "header": {
             "fill": {
              "color": "#C8D4E3"
             },
             "line": {
              "color": "white"
             }
            },
            "type": "table"
           }
          ]
         },
         "layout": {
          "annotationdefaults": {
           "arrowcolor": "#2a3f5f",
           "arrowhead": 0,
           "arrowwidth": 1
          },
          "autotypenumbers": "strict",
          "coloraxis": {
           "colorbar": {
            "outlinewidth": 0,
            "ticks": ""
           }
          },
          "colorscale": {
           "diverging": [
            [
             0,
             "#8e0152"
            ],
            [
             0.1,
             "#c51b7d"
            ],
            [
             0.2,
             "#de77ae"
            ],
            [
             0.3,
             "#f1b6da"
            ],
            [
             0.4,
             "#fde0ef"
            ],
            [
             0.5,
             "#f7f7f7"
            ],
            [
             0.6,
             "#e6f5d0"
            ],
            [
             0.7,
             "#b8e186"
            ],
            [
             0.8,
             "#7fbc41"
            ],
            [
             0.9,
             "#4d9221"
            ],
            [
             1,
             "#276419"
            ]
           ],
           "sequential": [
            [
             0,
             "#0d0887"
            ],
            [
             0.1111111111111111,
             "#46039f"
            ],
            [
             0.2222222222222222,
             "#7201a8"
            ],
            [
             0.3333333333333333,
             "#9c179e"
            ],
            [
             0.4444444444444444,
             "#bd3786"
            ],
            [
             0.5555555555555556,
             "#d8576b"
            ],
            [
             0.6666666666666666,
             "#ed7953"
            ],
            [
             0.7777777777777778,
             "#fb9f3a"
            ],
            [
             0.8888888888888888,
             "#fdca26"
            ],
            [
             1,
             "#f0f921"
            ]
           ],
           "sequentialminus": [
            [
             0,
             "#0d0887"
            ],
            [
             0.1111111111111111,
             "#46039f"
            ],
            [
             0.2222222222222222,
             "#7201a8"
            ],
            [
             0.3333333333333333,
             "#9c179e"
            ],
            [
             0.4444444444444444,
             "#bd3786"
            ],
            [
             0.5555555555555556,
             "#d8576b"
            ],
            [
             0.6666666666666666,
             "#ed7953"
            ],
            [
             0.7777777777777778,
             "#fb9f3a"
            ],
            [
             0.8888888888888888,
             "#fdca26"
            ],
            [
             1,
             "#f0f921"
            ]
           ]
          },
          "colorway": [
           "#636efa",
           "#EF553B",
           "#00cc96",
           "#ab63fa",
           "#FFA15A",
           "#19d3f3",
           "#FF6692",
           "#B6E880",
           "#FF97FF",
           "#FECB52"
          ],
          "font": {
           "color": "#2a3f5f"
          },
          "geo": {
           "bgcolor": "white",
           "lakecolor": "white",
           "landcolor": "#E5ECF6",
           "showlakes": true,
           "showland": true,
           "subunitcolor": "white"
          },
          "hoverlabel": {
           "align": "left"
          },
          "hovermode": "closest",
          "mapbox": {
           "style": "light"
          },
          "paper_bgcolor": "white",
          "plot_bgcolor": "#E5ECF6",
          "polar": {
           "angularaxis": {
            "gridcolor": "white",
            "linecolor": "white",
            "ticks": ""
           },
           "bgcolor": "#E5ECF6",
           "radialaxis": {
            "gridcolor": "white",
            "linecolor": "white",
            "ticks": ""
           }
          },
          "scene": {
           "xaxis": {
            "backgroundcolor": "#E5ECF6",
            "gridcolor": "white",
            "gridwidth": 2,
            "linecolor": "white",
            "showbackground": true,
            "ticks": "",
            "zerolinecolor": "white"
           },
           "yaxis": {
            "backgroundcolor": "#E5ECF6",
            "gridcolor": "white",
            "gridwidth": 2,
            "linecolor": "white",
            "showbackground": true,
            "ticks": "",
            "zerolinecolor": "white"
           },
           "zaxis": {
            "backgroundcolor": "#E5ECF6",
            "gridcolor": "white",
            "gridwidth": 2,
            "linecolor": "white",
            "showbackground": true,
            "ticks": "",
            "zerolinecolor": "white"
           }
          },
          "shapedefaults": {
           "line": {
            "color": "#2a3f5f"
           }
          },
          "ternary": {
           "aaxis": {
            "gridcolor": "white",
            "linecolor": "white",
            "ticks": ""
           },
           "baxis": {
            "gridcolor": "white",
            "linecolor": "white",
            "ticks": ""
           },
           "bgcolor": "#E5ECF6",
           "caxis": {
            "gridcolor": "white",
            "linecolor": "white",
            "ticks": ""
           }
          },
          "title": {
           "x": 0.05
          },
          "xaxis": {
           "automargin": true,
           "gridcolor": "white",
           "linecolor": "white",
           "ticks": "",
           "title": {
            "standoff": 15
           },
           "zerolinecolor": "white",
           "zerolinewidth": 2
          },
          "yaxis": {
           "automargin": true,
           "gridcolor": "white",
           "linecolor": "white",
           "ticks": "",
           "title": {
            "standoff": 15
           },
           "zerolinecolor": "white",
           "zerolinewidth": 2
          }
         }
        },
        "title": {
         "text": "Number of Active Units"
        },
        "xaxis": {
         "title": {
          "text": "Similarity"
         }
        },
        "yaxis": {
         "title": {
          "text": "Sum of AU"
         }
        }
       }
      },
      "text/html": [
       "<div>                            <div id=\"da96b914-ce71-4af5-9e27-6d446f667f04\" class=\"plotly-graph-div\" style=\"height:525px; width:100%;\"></div>            <script type=\"text/javascript\">                require([\"plotly\"], function(Plotly) {                    window.PLOTLYENV=window.PLOTLYENV || {};                                    if (document.getElementById(\"da96b914-ce71-4af5-9e27-6d446f667f04\")) {                    Plotly.newPlot(                        \"da96b914-ce71-4af5-9e27-6d446f667f04\",                        [{\"error_y\":{\"array\":[4.146371841430664,4.413434028625488,4.622239589691162,5.4138617515563965,3.860103130340576,1.9269404411315918,0.0,0.0,0.0,0.0,0.0],\"type\":\"data\",\"visible\":true},\"mode\":\"lines+markers\",\"name\":\"sparsity:0.00\",\"x\":[\"0.00\",\"0.10\",\"0.20\",\"0.30\",\"0.40\",\"0.50\",\"0.60\",\"0.70\",\"0.80\",\"0.90\",\"1.00\"],\"y\":[24.260000228881836,30.959999084472656,43.43000030517578,60.5099983215332,82.86000061035156,96.3699951171875,100.0,100.0,100.0,100.0,100.0],\"type\":\"scatter\"},{\"error_y\":{\"array\":[3.618438720703125,4.005733489990234,4.4878058433532715,4.600815296173096,3.9874303340911865,2.9853644371032715,0.4715930223464966,0.0,0.0,0.0,0.0],\"type\":\"data\",\"visible\":true},\"mode\":\"lines+markers\",\"name\":\"sparsity:0.10\",\"x\":[\"0.00\",\"0.10\",\"0.20\",\"0.30\",\"0.40\",\"0.50\",\"0.60\",\"0.70\",\"0.80\",\"0.90\",\"1.00\"],\"y\":[15.869999885559082,20.209999084472656,33.13999938964844,49.54999923706055,72.0199966430664,91.25999450683594,99.75999450683594,100.0,100.0,100.0,100.0],\"type\":\"scatter\"},{\"error_y\":{\"array\":[2.9342801570892334,2.8631973266601562,3.8577067852020264,5.0486040115356445,5.091670036315918,3.3695547580718994,1.452274203300476,0.0,0.0,0.0,0.0],\"type\":\"data\",\"visible\":true},\"mode\":\"lines+markers\",\"name\":\"sparsity:0.20\",\"x\":[\"0.00\",\"0.10\",\"0.20\",\"0.30\",\"0.40\",\"0.50\",\"0.60\",\"0.70\",\"0.80\",\"0.90\",\"1.00\"],\"y\":[9.09999942779541,11.109999656677246,24.09000015258789,39.540000915527344,61.06999969482422,84.68999481201172,97.47000122070312,100.0,100.0,100.0,100.0],\"type\":\"scatter\"},{\"error_y\":{\"array\":[1.9646881818771362,2.2377443313598633,3.6085867881774902,4.343858242034912,5.239809036254883,3.9917917251586914,2.670935869216919,0.0,0.0,0.0,0.0],\"type\":\"data\",\"visible\":true},\"mode\":\"lines+markers\",\"name\":\"sparsity:0.30\",\"x\":[\"0.00\",\"0.10\",\"0.20\",\"0.30\",\"0.40\",\"0.50\",\"0.60\",\"0.70\",\"0.80\",\"0.90\",\"1.00\"],\"y\":[4.400000095367432,5.25,14.09000015258789,30.029998779296875,49.37999725341797,75.83999633789062,92.68999481201172,100.0,100.0,100.0,100.0],\"type\":\"scatter\"},{\"error_y\":{\"array\":[1.103811502456665,1.0331987142562866,1.6510300636291504,4.039356231689453,4.43211030960083,4.832090377807617,3.490788221359253,0.5673624277114868,0.0,0.0,0.0],\"type\":\"data\",\"visible\":true},\"mode\":\"lines+markers\",\"name\":\"sparsity:0.40\",\"x\":[\"0.00\",\"0.10\",\"0.20\",\"0.30\",\"0.40\",\"0.50\",\"0.60\",\"0.70\",\"0.80\",\"0.90\",\"1.00\"],\"y\":[1.0399999618530273,1.149999976158142,3.7099997997283936,18.939998626708984,38.57999801635742,63.96999740600586,86.1199951171875,99.58999633789062,100.0,100.0,100.0],\"type\":\"scatter\"},{\"error_y\":{\"array\":[0.0,0.0,0.0,2.8616602420806885,4.485298156738281,5.037250518798828,3.656487226486206,2.646714925765991,0.0,0.0,0.0],\"type\":\"data\",\"visible\":true},\"mode\":\"lines+markers\",\"name\":\"sparsity:0.50\",\"x\":[\"0.00\",\"0.10\",\"0.20\",\"0.30\",\"0.40\",\"0.50\",\"0.60\",\"0.70\",\"0.80\",\"0.90\",\"1.00\"],\"y\":[0.0,0.0,0.0,9.029999732971191,26.389999389648438,51.30999755859375,76.00999450683594,93.06999969482422,100.0,100.0,100.0],\"type\":\"scatter\"},{\"error_y\":{\"array\":[0.0,0.0,0.0,1.1700855493545532,3.802354335784912,4.375968933105469,5.368528366088867,3.583294630050659,1.6740370988845825,0.9301074743270874,0.9410632252693176],\"type\":\"data\",\"visible\":true},\"mode\":\"lines+markers\",\"name\":\"sparsity:0.60\",\"x\":[\"0.00\",\"0.10\",\"0.20\",\"0.30\",\"0.40\",\"0.50\",\"0.60\",\"0.70\",\"0.80\",\"0.90\",\"1.00\"],\"y\":[0.0,0.0,0.0,1.5299999713897705,17.389999389648438,39.029998779296875,64.83000183105469,83.4000015258789,97.23999786376953,98.93000030517578,99.1199951171875],\"type\":\"scatter\"},{\"error_y\":{\"array\":[0.0,0.0,0.0,0.0,2.7143137454986572,4.270643711090088,5.1280012130737305,4.950504779815674,3.364520788192749,2.0873665809631348,1.8379064798355103],\"type\":\"data\",\"visible\":true},\"mode\":\"lines+markers\",\"name\":\"sparsity:0.70\",\"x\":[\"0.00\",\"0.10\",\"0.20\",\"0.30\",\"0.40\",\"0.50\",\"0.60\",\"0.70\",\"0.80\",\"0.90\",\"1.00\"],\"y\":[0.0,0.0,0.0,0.0,8.84999942779541,27.03999900817871,53.939998626708984,72.44999694824219,88.5999984741211,95.22999572753906,96.11000061035156],\"type\":\"scatter\"},{\"error_y\":{\"array\":[0.0,0.0,0.0,0.0,1.7029386758804321,3.7799999713897705,4.721609592437744,4.753640651702881,4.242122173309326,3.324394702911377,2.5616207122802734],\"type\":\"data\",\"visible\":true},\"mode\":\"lines+markers\",\"name\":\"sparsity:0.80\",\"x\":[\"0.00\",\"0.10\",\"0.20\",\"0.30\",\"0.40\",\"0.50\",\"0.60\",\"0.70\",\"0.80\",\"0.90\",\"1.00\"],\"y\":[0.0,0.0,0.0,0.0,3.799999952316284,17.459999084472656,43.07999801635742,62.27000045776367,78.37999725341797,88.77999877929688,91.58999633789062],\"type\":\"scatter\"},{\"error_y\":{\"array\":[0.0,0.0,0.0,0.0,0.6974238157272339,3.054570436477661,4.853287696838379,4.9248247146606445,4.6512250900268555,3.813344955444336,3.4810774326324463],\"type\":\"data\",\"visible\":true},\"mode\":\"lines+markers\",\"name\":\"sparsity:0.90\",\"x\":[\"0.00\",\"0.10\",\"0.20\",\"0.30\",\"0.40\",\"0.50\",\"0.60\",\"0.70\",\"0.80\",\"0.90\",\"1.00\"],\"y\":[0.0,0.0,0.0,0.0,0.5600000023841858,10.359999656677246,31.15999984741211,52.689998626708984,67.80999755859375,81.27999877929688,83.61000061035156],\"type\":\"scatter\"},{\"error_y\":{\"array\":[0.0,0.0,0.0,0.0,0.0,2.365671157836914,3.8574602603912354,4.682424545288086,5.56215763092041,4.647107124328613,4.453582763671875],\"type\":\"data\",\"visible\":true},\"mode\":\"lines+markers\",\"name\":\"sparsity:1.00\",\"x\":[\"0.00\",\"0.10\",\"0.20\",\"0.30\",\"0.40\",\"0.50\",\"0.60\",\"0.70\",\"0.80\",\"0.90\",\"1.00\"],\"y\":[0.0,0.0,0.0,0.0,0.0,5.059999942779541,20.0,42.43000030517578,57.68000030517578,70.37999725341797,75.15999603271484],\"type\":\"scatter\"}],                        {\"template\":{\"data\":{\"histogram2dcontour\":[{\"type\":\"histogram2dcontour\",\"colorbar\":{\"outlinewidth\":0,\"ticks\":\"\"},\"colorscale\":[[0.0,\"#0d0887\"],[0.1111111111111111,\"#46039f\"],[0.2222222222222222,\"#7201a8\"],[0.3333333333333333,\"#9c179e\"],[0.4444444444444444,\"#bd3786\"],[0.5555555555555556,\"#d8576b\"],[0.6666666666666666,\"#ed7953\"],[0.7777777777777778,\"#fb9f3a\"],[0.8888888888888888,\"#fdca26\"],[1.0,\"#f0f921\"]]}],\"choropleth\":[{\"type\":\"choropleth\",\"colorbar\":{\"outlinewidth\":0,\"ticks\":\"\"}}],\"histogram2d\":[{\"type\":\"histogram2d\",\"colorbar\":{\"outlinewidth\":0,\"ticks\":\"\"},\"colorscale\":[[0.0,\"#0d0887\"],[0.1111111111111111,\"#46039f\"],[0.2222222222222222,\"#7201a8\"],[0.3333333333333333,\"#9c179e\"],[0.4444444444444444,\"#bd3786\"],[0.5555555555555556,\"#d8576b\"],[0.6666666666666666,\"#ed7953\"],[0.7777777777777778,\"#fb9f3a\"],[0.8888888888888888,\"#fdca26\"],[1.0,\"#f0f921\"]]}],\"heatmap\":[{\"type\":\"heatmap\",\"colorbar\":{\"outlinewidth\":0,\"ticks\":\"\"},\"colorscale\":[[0.0,\"#0d0887\"],[0.1111111111111111,\"#46039f\"],[0.2222222222222222,\"#7201a8\"],[0.3333333333333333,\"#9c179e\"],[0.4444444444444444,\"#bd3786\"],[0.5555555555555556,\"#d8576b\"],[0.6666666666666666,\"#ed7953\"],[0.7777777777777778,\"#fb9f3a\"],[0.8888888888888888,\"#fdca26\"],[1.0,\"#f0f921\"]]}],\"heatmapgl\":[{\"type\":\"heatmapgl\",\"colorbar\":{\"outlinewidth\":0,\"ticks\":\"\"},\"colorscale\":[[0.0,\"#0d0887\"],[0.1111111111111111,\"#46039f\"],[0.2222222222222222,\"#7201a8\"],[0.3333333333333333,\"#9c179e\"],[0.4444444444444444,\"#bd3786\"],[0.5555555555555556,\"#d8576b\"],[0.6666666666666666,\"#ed7953\"],[0.7777777777777778,\"#fb9f3a\"],[0.8888888888888888,\"#fdca26\"],[1.0,\"#f0f921\"]]}],\"contourcarpet\":[{\"type\":\"contourcarpet\",\"colorbar\":{\"outlinewidth\":0,\"ticks\":\"\"}}],\"contour\":[{\"type\":\"contour\",\"colorbar\":{\"outlinewidth\":0,\"ticks\":\"\"},\"colorscale\":[[0.0,\"#0d0887\"],[0.1111111111111111,\"#46039f\"],[0.2222222222222222,\"#7201a8\"],[0.3333333333333333,\"#9c179e\"],[0.4444444444444444,\"#bd3786\"],[0.5555555555555556,\"#d8576b\"],[0.6666666666666666,\"#ed7953\"],[0.7777777777777778,\"#fb9f3a\"],[0.8888888888888888,\"#fdca26\"],[1.0,\"#f0f921\"]]}],\"surface\":[{\"type\":\"surface\",\"colorbar\":{\"outlinewidth\":0,\"ticks\":\"\"},\"colorscale\":[[0.0,\"#0d0887\"],[0.1111111111111111,\"#46039f\"],[0.2222222222222222,\"#7201a8\"],[0.3333333333333333,\"#9c179e\"],[0.4444444444444444,\"#bd3786\"],[0.5555555555555556,\"#d8576b\"],[0.6666666666666666,\"#ed7953\"],[0.7777777777777778,\"#fb9f3a\"],[0.8888888888888888,\"#fdca26\"],[1.0,\"#f0f921\"]]}],\"mesh3d\":[{\"type\":\"mesh3d\",\"colorbar\":{\"outlinewidth\":0,\"ticks\":\"\"}}],\"scatter\":[{\"fillpattern\":{\"fillmode\":\"overlay\",\"size\":10,\"solidity\":0.2},\"type\":\"scatter\"}],\"parcoords\":[{\"type\":\"parcoords\",\"line\":{\"colorbar\":{\"outlinewidth\":0,\"ticks\":\"\"}}}],\"scatterpolargl\":[{\"type\":\"scatterpolargl\",\"marker\":{\"colorbar\":{\"outlinewidth\":0,\"ticks\":\"\"}}}],\"bar\":[{\"error_x\":{\"color\":\"#2a3f5f\"},\"error_y\":{\"color\":\"#2a3f5f\"},\"marker\":{\"line\":{\"color\":\"#E5ECF6\",\"width\":0.5},\"pattern\":{\"fillmode\":\"overlay\",\"size\":10,\"solidity\":0.2}},\"type\":\"bar\"}],\"scattergeo\":[{\"type\":\"scattergeo\",\"marker\":{\"colorbar\":{\"outlinewidth\":0,\"ticks\":\"\"}}}],\"scatterpolar\":[{\"type\":\"scatterpolar\",\"marker\":{\"colorbar\":{\"outlinewidth\":0,\"ticks\":\"\"}}}],\"histogram\":[{\"marker\":{\"pattern\":{\"fillmode\":\"overlay\",\"size\":10,\"solidity\":0.2}},\"type\":\"histogram\"}],\"scattergl\":[{\"type\":\"scattergl\",\"marker\":{\"colorbar\":{\"outlinewidth\":0,\"ticks\":\"\"}}}],\"scatter3d\":[{\"type\":\"scatter3d\",\"line\":{\"colorbar\":{\"outlinewidth\":0,\"ticks\":\"\"}},\"marker\":{\"colorbar\":{\"outlinewidth\":0,\"ticks\":\"\"}}}],\"scattermapbox\":[{\"type\":\"scattermapbox\",\"marker\":{\"colorbar\":{\"outlinewidth\":0,\"ticks\":\"\"}}}],\"scatterternary\":[{\"type\":\"scatterternary\",\"marker\":{\"colorbar\":{\"outlinewidth\":0,\"ticks\":\"\"}}}],\"scattercarpet\":[{\"type\":\"scattercarpet\",\"marker\":{\"colorbar\":{\"outlinewidth\":0,\"ticks\":\"\"}}}],\"carpet\":[{\"aaxis\":{\"endlinecolor\":\"#2a3f5f\",\"gridcolor\":\"white\",\"linecolor\":\"white\",\"minorgridcolor\":\"white\",\"startlinecolor\":\"#2a3f5f\"},\"baxis\":{\"endlinecolor\":\"#2a3f5f\",\"gridcolor\":\"white\",\"linecolor\":\"white\",\"minorgridcolor\":\"white\",\"startlinecolor\":\"#2a3f5f\"},\"type\":\"carpet\"}],\"table\":[{\"cells\":{\"fill\":{\"color\":\"#EBF0F8\"},\"line\":{\"color\":\"white\"}},\"header\":{\"fill\":{\"color\":\"#C8D4E3\"},\"line\":{\"color\":\"white\"}},\"type\":\"table\"}],\"barpolar\":[{\"marker\":{\"line\":{\"color\":\"#E5ECF6\",\"width\":0.5},\"pattern\":{\"fillmode\":\"overlay\",\"size\":10,\"solidity\":0.2}},\"type\":\"barpolar\"}],\"pie\":[{\"automargin\":true,\"type\":\"pie\"}]},\"layout\":{\"autotypenumbers\":\"strict\",\"colorway\":[\"#636efa\",\"#EF553B\",\"#00cc96\",\"#ab63fa\",\"#FFA15A\",\"#19d3f3\",\"#FF6692\",\"#B6E880\",\"#FF97FF\",\"#FECB52\"],\"font\":{\"color\":\"#2a3f5f\"},\"hovermode\":\"closest\",\"hoverlabel\":{\"align\":\"left\"},\"paper_bgcolor\":\"white\",\"plot_bgcolor\":\"#E5ECF6\",\"polar\":{\"bgcolor\":\"#E5ECF6\",\"angularaxis\":{\"gridcolor\":\"white\",\"linecolor\":\"white\",\"ticks\":\"\"},\"radialaxis\":{\"gridcolor\":\"white\",\"linecolor\":\"white\",\"ticks\":\"\"}},\"ternary\":{\"bgcolor\":\"#E5ECF6\",\"aaxis\":{\"gridcolor\":\"white\",\"linecolor\":\"white\",\"ticks\":\"\"},\"baxis\":{\"gridcolor\":\"white\",\"linecolor\":\"white\",\"ticks\":\"\"},\"caxis\":{\"gridcolor\":\"white\",\"linecolor\":\"white\",\"ticks\":\"\"}},\"coloraxis\":{\"colorbar\":{\"outlinewidth\":0,\"ticks\":\"\"}},\"colorscale\":{\"sequential\":[[0.0,\"#0d0887\"],[0.1111111111111111,\"#46039f\"],[0.2222222222222222,\"#7201a8\"],[0.3333333333333333,\"#9c179e\"],[0.4444444444444444,\"#bd3786\"],[0.5555555555555556,\"#d8576b\"],[0.6666666666666666,\"#ed7953\"],[0.7777777777777778,\"#fb9f3a\"],[0.8888888888888888,\"#fdca26\"],[1.0,\"#f0f921\"]],\"sequentialminus\":[[0.0,\"#0d0887\"],[0.1111111111111111,\"#46039f\"],[0.2222222222222222,\"#7201a8\"],[0.3333333333333333,\"#9c179e\"],[0.4444444444444444,\"#bd3786\"],[0.5555555555555556,\"#d8576b\"],[0.6666666666666666,\"#ed7953\"],[0.7777777777777778,\"#fb9f3a\"],[0.8888888888888888,\"#fdca26\"],[1.0,\"#f0f921\"]],\"diverging\":[[0,\"#8e0152\"],[0.1,\"#c51b7d\"],[0.2,\"#de77ae\"],[0.3,\"#f1b6da\"],[0.4,\"#fde0ef\"],[0.5,\"#f7f7f7\"],[0.6,\"#e6f5d0\"],[0.7,\"#b8e186\"],[0.8,\"#7fbc41\"],[0.9,\"#4d9221\"],[1,\"#276419\"]]},\"xaxis\":{\"gridcolor\":\"white\",\"linecolor\":\"white\",\"ticks\":\"\",\"title\":{\"standoff\":15},\"zerolinecolor\":\"white\",\"automargin\":true,\"zerolinewidth\":2},\"yaxis\":{\"gridcolor\":\"white\",\"linecolor\":\"white\",\"ticks\":\"\",\"title\":{\"standoff\":15},\"zerolinecolor\":\"white\",\"automargin\":true,\"zerolinewidth\":2},\"scene\":{\"xaxis\":{\"backgroundcolor\":\"#E5ECF6\",\"gridcolor\":\"white\",\"linecolor\":\"white\",\"showbackground\":true,\"ticks\":\"\",\"zerolinecolor\":\"white\",\"gridwidth\":2},\"yaxis\":{\"backgroundcolor\":\"#E5ECF6\",\"gridcolor\":\"white\",\"linecolor\":\"white\",\"showbackground\":true,\"ticks\":\"\",\"zerolinecolor\":\"white\",\"gridwidth\":2},\"zaxis\":{\"backgroundcolor\":\"#E5ECF6\",\"gridcolor\":\"white\",\"linecolor\":\"white\",\"showbackground\":true,\"ticks\":\"\",\"zerolinecolor\":\"white\",\"gridwidth\":2}},\"shapedefaults\":{\"line\":{\"color\":\"#2a3f5f\"}},\"annotationdefaults\":{\"arrowcolor\":\"#2a3f5f\",\"arrowhead\":0,\"arrowwidth\":1},\"geo\":{\"bgcolor\":\"white\",\"landcolor\":\"#E5ECF6\",\"subunitcolor\":\"white\",\"showland\":true,\"showlakes\":true,\"lakecolor\":\"white\"},\"title\":{\"x\":0.05},\"mapbox\":{\"style\":\"light\"}}},\"showlegend\":true,\"title\":{\"text\":\"Number of Active Units\"},\"xaxis\":{\"title\":{\"text\":\"Similarity\"}},\"yaxis\":{\"title\":{\"text\":\"Sum of AU\"}}},                        {\"responsive\": true}                    ).then(function(){\n",
       "                            \n",
       "var gd = document.getElementById('da96b914-ce71-4af5-9e27-6d446f667f04');\n",
       "var x = new MutationObserver(function (mutations, observer) {{\n",
       "        var display = window.getComputedStyle(gd).display;\n",
       "        if (!display || display === 'none') {{\n",
       "            console.log([gd, 'removed!']);\n",
       "            Plotly.purge(gd);\n",
       "            observer.disconnect();\n",
       "        }}\n",
       "}});\n",
       "\n",
       "// Listen for the removal of the full notebook cells\n",
       "var notebookContainer = gd.closest('#notebook-container');\n",
       "if (notebookContainer) {{\n",
       "    x.observe(notebookContainer, {childList: true});\n",
       "}}\n",
       "\n",
       "// Listen for the clearing of the current output cell\n",
       "var outputEl = gd.closest('.output');\n",
       "if (outputEl) {{\n",
       "    x.observe(outputEl, {childList: true});\n",
       "}}\n",
       "\n",
       "                        })                };                });            </script>        </div>"
      ]
     },
     "metadata": {},
     "output_type": "display_data"
    }
   ],
   "source": [
    "fig = go.Figure()\n",
    "fig1 = go.Figure()\n",
    "\n",
    "for s in all_d_overlaps.keys():\n",
    "    overlap_means = []\n",
    "    overlap_stds = []\n",
    "    x = []\n",
    "    means_ones = []\n",
    "    stds_ones = []\n",
    "    x = []\n",
    "    for v in all_d_overlaps[s].keys():\n",
    "        overlap_stds.append(all_d_overlaps[s][v]['std'])\n",
    "        overlap_means.append(all_d_overlaps[s][v]['mean'])\n",
    "        x.append(v)\n",
    "        means_ones.append(all_d_overlaps[s][v]['mean_ones'])\n",
    "        stds_ones.append(all_d_overlaps[s][v]['std_ones'])\n",
    "\n",
    "    fig.add_trace(go.Scatter(x=x, \n",
    "                            y=overlap_means, \n",
    "                            error_y=dict(\n",
    "                                        type='data',\n",
    "                                        array=overlap_stds,\n",
    "                                        visible=True,\n",
    "                                        ),\n",
    "                            mode='lines+markers',\n",
    "                            name=f\"sparsity:{s}\"\n",
    "                            ))\n",
    "    \n",
    "    fig1.add_trace(go.Scatter(x=x,\n",
    "                              y=means_ones,\n",
    "                              error_y=dict(\n",
    "                                  type='data',\n",
    "                                  array=stds_ones,\n",
    "                                  visible=True,\n",
    "                              ),\n",
    "                              mode='lines+markers',\n",
    "                              name=f\"sparsity:{s}\"))\n",
    "        # print(all_d_overlaps[s][v])\n",
    "fig.update_layout(showlegend=True,\n",
    "                  title=\"Deterministic Gates\",\n",
    "                  xaxis_title='Task similarity',\n",
    "                  yaxis_title='Overlap Values')\n",
    "fig1.update_layout(showlegend=True,\n",
    "                   title=\"Number of Active Units\",\n",
    "                   xaxis_title=\"Similarity\",\n",
    "                   yaxis_title=\"Sum of AU\")\n",
    "\n",
    "fig.show()\n",
    "fig1.show()"
   ]
  },
  {
   "cell_type": "code",
   "execution_count": 11,
   "id": "84f13ec3",
   "metadata": {},
   "outputs": [
    {
     "data": {
      "text/plain": [
       "11"
      ]
     },
     "execution_count": 11,
     "metadata": {},
     "output_type": "execute_result"
    }
   ],
   "source": [
    "all_r_overlaps.keys()\n",
    "\n",
    "len(all_r_overlaps['0.00']['mean'])\n",
    "# all_r_overlaps['0.00']"
   ]
  },
  {
   "cell_type": "code",
   "execution_count": 13,
   "id": "3e0996c9",
   "metadata": {},
   "outputs": [
    {
     "data": {
      "text/plain": [
       "{'mean': Array([0., 0., 0., 0., 0., 0., 0., 0., 0., 0., 0.], dtype=float32),\n",
       " 'std': Array([0., 0., 0., 0., 0., 0., 0., 0., 0., 0., 0.], dtype=float32),\n",
       " 'm_ones': 0.0,\n",
       " 'std_ones': 0.0}"
      ]
     },
     "execution_count": 13,
     "metadata": {},
     "output_type": "execute_result"
    }
   ],
   "source": [
    "all_r_overlaps['0.00']"
   ]
  },
  {
   "cell_type": "code",
   "execution_count": 16,
   "id": "9dbb01eb",
   "metadata": {},
   "outputs": [
    {
     "data": {
      "application/vnd.plotly.v1+json": {
       "config": {
        "plotlyServerURL": "https://plot.ly"
       },
       "data": [
        {
         "error_y": {
          "array": [
           0,
           0,
           0,
           0,
           0,
           0,
           0,
           0,
           0,
           0,
           0
          ],
          "type": "data",
          "visible": true
         },
         "mode": "lines+markers",
         "name": "sparsity:0.00",
         "type": "scatter",
         "x": [
          0,
          0.1,
          0.2,
          0.30000000000000004,
          0.4,
          0.5,
          0.6000000000000001,
          0.7000000000000001,
          0.8,
          0.9,
          1
         ],
         "y": [
          0,
          0,
          0,
          0,
          0,
          0,
          0,
          0,
          0,
          0,
          0
         ]
        },
        {
         "error_y": {
          "array": [
           0.009806119836866856,
           0.010470911860466003,
           0.009871169924736023,
           0.009484725072979927,
           0.009666437283158302,
           0.010860939510166645,
           0.009467839263379574,
           0.009165150113403797,
           0.012048237025737762,
           0.009765245020389557,
           0.010703271254897118
          ],
          "type": "data",
          "visible": true
         },
         "mode": "lines+markers",
         "name": "sparsity:0.10",
         "type": "scatter",
         "x": [
          0,
          0.1,
          0.2,
          0.30000000000000004,
          0.4,
          0.5,
          0.6000000000000001,
          0.7000000000000001,
          0.8,
          0.9,
          1
         ],
         "y": [
          0.007199999410659075,
          0.009399999864399433,
          0.00839999970048666,
          0.010199999436736107,
          0.00839999970048666,
          0.010199999436736107,
          0.009399999864399433,
          0.009999999776482582,
          0.012199998833239079,
          0.009200000204145908,
          0.011200000531971455
         ]
        },
        {
         "error_y": {
          "array": [
           0.016517870128154755,
           0.01846618391573429,
           0.017668047919869423,
           0.01908297650516033,
           0.0177718885242939,
           0.01755448617041111,
           0.019673332571983337,
           0.02071617916226387,
           0.021967248991131783,
           0.02148115634918213,
           0.018778713420033455
          ],
          "type": "data",
          "visible": true
         },
         "mode": "lines+markers",
         "name": "sparsity:0.20",
         "type": "scatter",
         "x": [
          0,
          0.1,
          0.2,
          0.30000000000000004,
          0.4,
          0.5,
          0.6000000000000001,
          0.7000000000000001,
          0.8,
          0.9,
          1
         ],
         "y": [
          0.034599997103214264,
          0.0429999902844429,
          0.04280000552535057,
          0.037199996411800385,
          0.04039999842643738,
          0.037199996411800385,
          0.04359999671578407,
          0.0421999953687191,
          0.04119999706745148,
          0.04159999638795853,
          0.04439999535679817
         ]
        },
        {
         "error_y": {
          "array": [
           0.03256746754050255,
           0.027188967913389206,
           0.02639772742986679,
           0.030521467328071594,
           0.030877824872732162,
           0.02847033366560936,
           0.03157530352473259,
           0.03368144854903221,
           0.028417598456144333,
           0.029554016888141632,
           0.0239699799567461
          ],
          "type": "data",
          "visible": true
         },
         "mode": "lines+markers",
         "name": "sparsity:0.30",
         "type": "scatter",
         "x": [
          0,
          0.1,
          0.2,
          0.30000000000000004,
          0.4,
          0.5,
          0.6000000000000001,
          0.7000000000000001,
          0.8,
          0.9,
          1
         ],
         "y": [
          0.08560000360012054,
          0.08739999681711197,
          0.09539999067783356,
          0.08380000293254852,
          0.08839999884366989,
          0.08879999816417694,
          0.08899999409914017,
          0.0934000015258789,
          0.09619998931884766,
          0.08839999884366989,
          0.09120000898838043
         ]
        },
        {
         "error_y": {
          "array": [
           0.033272210508584976,
           0.03763030841946602,
           0.03224654868245125,
           0.04245515167713165,
           0.03609376773238182,
           0.03731005638837814,
           0.03621270880103111,
           0.03858756273984909,
           0.03322649747133255,
           0.03131836652755737,
           0.04019999876618385
          ],
          "type": "data",
          "visible": true
         },
         "mode": "lines+markers",
         "name": "sparsity:0.40",
         "type": "scatter",
         "x": [
          0,
          0.1,
          0.2,
          0.30000000000000004,
          0.4,
          0.5,
          0.6000000000000001,
          0.7000000000000001,
          0.8,
          0.9,
          1
         ],
         "y": [
          0.15640002489089966,
          0.1613999903202057,
          0.16040000319480896,
          0.16339999437332153,
          0.16180001199245453,
          0.16140000522136688,
          0.1592000424861908,
          0.16300003230571747,
          0.14800000190734863,
          0.15540000796318054,
          0.16140003502368927
         ]
        },
        {
         "error_y": {
          "array": [
           0.04396544024348259,
           0.037949442863464355,
           0.04387299716472626,
           0.03916580229997635,
           0.036828793585300446,
           0.0398617647588253,
           0.04455333948135376,
           0.04315599426627159,
           0.038731899112463,
           0.043104059994220734,
           0.03932632878422737
          ],
          "type": "data",
          "visible": true
         },
         "mode": "lines+markers",
         "name": "sparsity:0.50",
         "type": "scatter",
         "x": [
          0,
          0.1,
          0.2,
          0.30000000000000004,
          0.4,
          0.5,
          0.6000000000000001,
          0.7000000000000001,
          0.8,
          0.9,
          1
         ],
         "y": [
          0.2451999932527542,
          0.25279998779296875,
          0.24459998309612274,
          0.24979999661445618,
          0.2541999816894531,
          0.25519996881484985,
          0.2449999898672104,
          0.2533999979496002,
          0.24720001220703125,
          0.2497999519109726,
          0.24879997968673706
         ]
        },
        {
         "error_y": {
          "array": [
           0.044522348791360855,
           0.041470952332019806,
           0.04420904442667961,
           0.0429883673787117,
           0.04990430176258087,
           0.041975706815719604,
           0.04413614794611931,
           0.04056056961417198,
           0.04651709273457527,
           0.03970944508910179,
           0.04334235563874245
          ],
          "type": "data",
          "visible": true
         },
         "mode": "lines+markers",
         "name": "sparsity:0.60",
         "type": "scatter",
         "x": [
          0,
          0.1,
          0.2,
          0.30000000000000004,
          0.4,
          0.5,
          0.6000000000000001,
          0.7000000000000001,
          0.8,
          0.9,
          1
         ],
         "y": [
          0.36239996552467346,
          0.36039999127388,
          0.3566000163555145,
          0.35999998450279236,
          0.35339999198913574,
          0.35019996762275696,
          0.3659999668598175,
          0.362199991941452,
          0.37039995193481445,
          0.37540000677108765,
          0.3688000440597534
         ]
        },
        {
         "error_y": {
          "array": [
           0.04601782187819481,
           0.04839669540524483,
           0.05568338930606842,
           0.053553711622953415,
           0.0510392002761364,
           0.05567764490842819,
           0.04751252382993698,
           0.04784349352121353,
           0.044793304055929184,
           0.05635601654648781,
           0.04389123246073723
          ],
          "type": "data",
          "visible": true
         },
         "mode": "lines+markers",
         "name": "sparsity:0.70",
         "type": "scatter",
         "x": [
          0,
          0.1,
          0.2,
          0.30000000000000004,
          0.4,
          0.5,
          0.6000000000000001,
          0.7000000000000001,
          0.8,
          0.9,
          1
         ],
         "y": [
          0.480599969625473,
          0.4875999391078949,
          0.5056000351905823,
          0.48399996757507324,
          0.49699994921684265,
          0.4859999418258667,
          0.4915999472141266,
          0.49299997091293335,
          0.496599942445755,
          0.4979999363422394,
          0.496599942445755
         ]
        },
        {
         "error_y": {
          "array": [
           0.0380888469517231,
           0.04763234406709671,
           0.04401136562228203,
           0.04644523561000824,
           0.03967064619064331,
           0.05717901885509491,
           0.0420708954334259,
           0.0433976948261261,
           0.0453537181019783,
           0.048548948019742966,
           0.053529806435108185
          ],
          "type": "data",
          "visible": true
         },
         "mode": "lines+markers",
         "name": "sparsity:0.80",
         "type": "scatter",
         "x": [
          0,
          0.1,
          0.2,
          0.30000000000000004,
          0.4,
          0.5,
          0.6000000000000001,
          0.7000000000000001,
          0.8,
          0.9,
          1
         ],
         "y": [
          0.6417999863624573,
          0.6453999876976013,
          0.6490000486373901,
          0.6477999687194824,
          0.6432000398635864,
          0.6383999586105347,
          0.6398000121116638,
          0.6407999992370605,
          0.6547999382019043,
          0.640999972820282,
          0.6383999586105347
         ]
        },
        {
         "error_y": {
          "array": [
           0.037161268293857574,
           0.03091924637556076,
           0.0358111746609211,
           0.04898325726389885,
           0.044586993753910065,
           0.03360000252723694,
           0.03966912999749184,
           0.04434816539287567,
           0.036274515092372894,
           0.035184651613235474,
           0.03612423315644264
          ],
          "type": "data",
          "visible": true
         },
         "mode": "lines+markers",
         "name": "sparsity:0.90",
         "type": "scatter",
         "x": [
          0,
          0.1,
          0.2,
          0.30000000000000004,
          0.4,
          0.5,
          0.6000000000000001,
          0.7000000000000001,
          0.8,
          0.9,
          1
         ],
         "y": [
          0.8151999711990356,
          0.8100000023841858,
          0.8065999150276184,
          0.8092000484466553,
          0.8140000700950623,
          0.8052000403404236,
          0.8106001019477844,
          0.8082000613212585,
          0.8095999956130981,
          0.8002000451087952,
          0.805199921131134
         ]
        },
        {
         "error_y": {
          "array": [
           0,
           0,
           0,
           0,
           0,
           0,
           0,
           0,
           0,
           0,
           0
          ],
          "type": "data",
          "visible": true
         },
         "mode": "lines+markers",
         "name": "sparsity:1.00",
         "type": "scatter",
         "x": [
          0,
          0.1,
          0.2,
          0.30000000000000004,
          0.4,
          0.5,
          0.6000000000000001,
          0.7000000000000001,
          0.8,
          0.9,
          1
         ],
         "y": [
          1,
          1,
          1,
          1,
          1,
          1,
          1,
          1,
          1,
          1,
          1
         ]
        }
       ],
       "layout": {
        "height": 500,
        "showlegend": true,
        "template": {
         "data": {
          "bar": [
           {
            "error_x": {
             "color": "#2a3f5f"
            },
            "error_y": {
             "color": "#2a3f5f"
            },
            "marker": {
             "line": {
              "color": "#E5ECF6",
              "width": 0.5
             },
             "pattern": {
              "fillmode": "overlay",
              "size": 10,
              "solidity": 0.2
             }
            },
            "type": "bar"
           }
          ],
          "barpolar": [
           {
            "marker": {
             "line": {
              "color": "#E5ECF6",
              "width": 0.5
             },
             "pattern": {
              "fillmode": "overlay",
              "size": 10,
              "solidity": 0.2
             }
            },
            "type": "barpolar"
           }
          ],
          "carpet": [
           {
            "aaxis": {
             "endlinecolor": "#2a3f5f",
             "gridcolor": "white",
             "linecolor": "white",
             "minorgridcolor": "white",
             "startlinecolor": "#2a3f5f"
            },
            "baxis": {
             "endlinecolor": "#2a3f5f",
             "gridcolor": "white",
             "linecolor": "white",
             "minorgridcolor": "white",
             "startlinecolor": "#2a3f5f"
            },
            "type": "carpet"
           }
          ],
          "choropleth": [
           {
            "colorbar": {
             "outlinewidth": 0,
             "ticks": ""
            },
            "type": "choropleth"
           }
          ],
          "contour": [
           {
            "colorbar": {
             "outlinewidth": 0,
             "ticks": ""
            },
            "colorscale": [
             [
              0,
              "#0d0887"
             ],
             [
              0.1111111111111111,
              "#46039f"
             ],
             [
              0.2222222222222222,
              "#7201a8"
             ],
             [
              0.3333333333333333,
              "#9c179e"
             ],
             [
              0.4444444444444444,
              "#bd3786"
             ],
             [
              0.5555555555555556,
              "#d8576b"
             ],
             [
              0.6666666666666666,
              "#ed7953"
             ],
             [
              0.7777777777777778,
              "#fb9f3a"
             ],
             [
              0.8888888888888888,
              "#fdca26"
             ],
             [
              1,
              "#f0f921"
             ]
            ],
            "type": "contour"
           }
          ],
          "contourcarpet": [
           {
            "colorbar": {
             "outlinewidth": 0,
             "ticks": ""
            },
            "type": "contourcarpet"
           }
          ],
          "heatmap": [
           {
            "colorbar": {
             "outlinewidth": 0,
             "ticks": ""
            },
            "colorscale": [
             [
              0,
              "#0d0887"
             ],
             [
              0.1111111111111111,
              "#46039f"
             ],
             [
              0.2222222222222222,
              "#7201a8"
             ],
             [
              0.3333333333333333,
              "#9c179e"
             ],
             [
              0.4444444444444444,
              "#bd3786"
             ],
             [
              0.5555555555555556,
              "#d8576b"
             ],
             [
              0.6666666666666666,
              "#ed7953"
             ],
             [
              0.7777777777777778,
              "#fb9f3a"
             ],
             [
              0.8888888888888888,
              "#fdca26"
             ],
             [
              1,
              "#f0f921"
             ]
            ],
            "type": "heatmap"
           }
          ],
          "heatmapgl": [
           {
            "colorbar": {
             "outlinewidth": 0,
             "ticks": ""
            },
            "colorscale": [
             [
              0,
              "#0d0887"
             ],
             [
              0.1111111111111111,
              "#46039f"
             ],
             [
              0.2222222222222222,
              "#7201a8"
             ],
             [
              0.3333333333333333,
              "#9c179e"
             ],
             [
              0.4444444444444444,
              "#bd3786"
             ],
             [
              0.5555555555555556,
              "#d8576b"
             ],
             [
              0.6666666666666666,
              "#ed7953"
             ],
             [
              0.7777777777777778,
              "#fb9f3a"
             ],
             [
              0.8888888888888888,
              "#fdca26"
             ],
             [
              1,
              "#f0f921"
             ]
            ],
            "type": "heatmapgl"
           }
          ],
          "histogram": [
           {
            "marker": {
             "pattern": {
              "fillmode": "overlay",
              "size": 10,
              "solidity": 0.2
             }
            },
            "type": "histogram"
           }
          ],
          "histogram2d": [
           {
            "colorbar": {
             "outlinewidth": 0,
             "ticks": ""
            },
            "colorscale": [
             [
              0,
              "#0d0887"
             ],
             [
              0.1111111111111111,
              "#46039f"
             ],
             [
              0.2222222222222222,
              "#7201a8"
             ],
             [
              0.3333333333333333,
              "#9c179e"
             ],
             [
              0.4444444444444444,
              "#bd3786"
             ],
             [
              0.5555555555555556,
              "#d8576b"
             ],
             [
              0.6666666666666666,
              "#ed7953"
             ],
             [
              0.7777777777777778,
              "#fb9f3a"
             ],
             [
              0.8888888888888888,
              "#fdca26"
             ],
             [
              1,
              "#f0f921"
             ]
            ],
            "type": "histogram2d"
           }
          ],
          "histogram2dcontour": [
           {
            "colorbar": {
             "outlinewidth": 0,
             "ticks": ""
            },
            "colorscale": [
             [
              0,
              "#0d0887"
             ],
             [
              0.1111111111111111,
              "#46039f"
             ],
             [
              0.2222222222222222,
              "#7201a8"
             ],
             [
              0.3333333333333333,
              "#9c179e"
             ],
             [
              0.4444444444444444,
              "#bd3786"
             ],
             [
              0.5555555555555556,
              "#d8576b"
             ],
             [
              0.6666666666666666,
              "#ed7953"
             ],
             [
              0.7777777777777778,
              "#fb9f3a"
             ],
             [
              0.8888888888888888,
              "#fdca26"
             ],
             [
              1,
              "#f0f921"
             ]
            ],
            "type": "histogram2dcontour"
           }
          ],
          "mesh3d": [
           {
            "colorbar": {
             "outlinewidth": 0,
             "ticks": ""
            },
            "type": "mesh3d"
           }
          ],
          "parcoords": [
           {
            "line": {
             "colorbar": {
              "outlinewidth": 0,
              "ticks": ""
             }
            },
            "type": "parcoords"
           }
          ],
          "pie": [
           {
            "automargin": true,
            "type": "pie"
           }
          ],
          "scatter": [
           {
            "fillpattern": {
             "fillmode": "overlay",
             "size": 10,
             "solidity": 0.2
            },
            "type": "scatter"
           }
          ],
          "scatter3d": [
           {
            "line": {
             "colorbar": {
              "outlinewidth": 0,
              "ticks": ""
             }
            },
            "marker": {
             "colorbar": {
              "outlinewidth": 0,
              "ticks": ""
             }
            },
            "type": "scatter3d"
           }
          ],
          "scattercarpet": [
           {
            "marker": {
             "colorbar": {
              "outlinewidth": 0,
              "ticks": ""
             }
            },
            "type": "scattercarpet"
           }
          ],
          "scattergeo": [
           {
            "marker": {
             "colorbar": {
              "outlinewidth": 0,
              "ticks": ""
             }
            },
            "type": "scattergeo"
           }
          ],
          "scattergl": [
           {
            "marker": {
             "colorbar": {
              "outlinewidth": 0,
              "ticks": ""
             }
            },
            "type": "scattergl"
           }
          ],
          "scattermapbox": [
           {
            "marker": {
             "colorbar": {
              "outlinewidth": 0,
              "ticks": ""
             }
            },
            "type": "scattermapbox"
           }
          ],
          "scatterpolar": [
           {
            "marker": {
             "colorbar": {
              "outlinewidth": 0,
              "ticks": ""
             }
            },
            "type": "scatterpolar"
           }
          ],
          "scatterpolargl": [
           {
            "marker": {
             "colorbar": {
              "outlinewidth": 0,
              "ticks": ""
             }
            },
            "type": "scatterpolargl"
           }
          ],
          "scatterternary": [
           {
            "marker": {
             "colorbar": {
              "outlinewidth": 0,
              "ticks": ""
             }
            },
            "type": "scatterternary"
           }
          ],
          "surface": [
           {
            "colorbar": {
             "outlinewidth": 0,
             "ticks": ""
            },
            "colorscale": [
             [
              0,
              "#0d0887"
             ],
             [
              0.1111111111111111,
              "#46039f"
             ],
             [
              0.2222222222222222,
              "#7201a8"
             ],
             [
              0.3333333333333333,
              "#9c179e"
             ],
             [
              0.4444444444444444,
              "#bd3786"
             ],
             [
              0.5555555555555556,
              "#d8576b"
             ],
             [
              0.6666666666666666,
              "#ed7953"
             ],
             [
              0.7777777777777778,
              "#fb9f3a"
             ],
             [
              0.8888888888888888,
              "#fdca26"
             ],
             [
              1,
              "#f0f921"
             ]
            ],
            "type": "surface"
           }
          ],
          "table": [
           {
            "cells": {
             "fill": {
              "color": "#EBF0F8"
             },
             "line": {
              "color": "white"
             }
            },
            "header": {
             "fill": {
              "color": "#C8D4E3"
             },
             "line": {
              "color": "white"
             }
            },
            "type": "table"
           }
          ]
         },
         "layout": {
          "annotationdefaults": {
           "arrowcolor": "#2a3f5f",
           "arrowhead": 0,
           "arrowwidth": 1
          },
          "autotypenumbers": "strict",
          "coloraxis": {
           "colorbar": {
            "outlinewidth": 0,
            "ticks": ""
           }
          },
          "colorscale": {
           "diverging": [
            [
             0,
             "#8e0152"
            ],
            [
             0.1,
             "#c51b7d"
            ],
            [
             0.2,
             "#de77ae"
            ],
            [
             0.3,
             "#f1b6da"
            ],
            [
             0.4,
             "#fde0ef"
            ],
            [
             0.5,
             "#f7f7f7"
            ],
            [
             0.6,
             "#e6f5d0"
            ],
            [
             0.7,
             "#b8e186"
            ],
            [
             0.8,
             "#7fbc41"
            ],
            [
             0.9,
             "#4d9221"
            ],
            [
             1,
             "#276419"
            ]
           ],
           "sequential": [
            [
             0,
             "#0d0887"
            ],
            [
             0.1111111111111111,
             "#46039f"
            ],
            [
             0.2222222222222222,
             "#7201a8"
            ],
            [
             0.3333333333333333,
             "#9c179e"
            ],
            [
             0.4444444444444444,
             "#bd3786"
            ],
            [
             0.5555555555555556,
             "#d8576b"
            ],
            [
             0.6666666666666666,
             "#ed7953"
            ],
            [
             0.7777777777777778,
             "#fb9f3a"
            ],
            [
             0.8888888888888888,
             "#fdca26"
            ],
            [
             1,
             "#f0f921"
            ]
           ],
           "sequentialminus": [
            [
             0,
             "#0d0887"
            ],
            [
             0.1111111111111111,
             "#46039f"
            ],
            [
             0.2222222222222222,
             "#7201a8"
            ],
            [
             0.3333333333333333,
             "#9c179e"
            ],
            [
             0.4444444444444444,
             "#bd3786"
            ],
            [
             0.5555555555555556,
             "#d8576b"
            ],
            [
             0.6666666666666666,
             "#ed7953"
            ],
            [
             0.7777777777777778,
             "#fb9f3a"
            ],
            [
             0.8888888888888888,
             "#fdca26"
            ],
            [
             1,
             "#f0f921"
            ]
           ]
          },
          "colorway": [
           "#636efa",
           "#EF553B",
           "#00cc96",
           "#ab63fa",
           "#FFA15A",
           "#19d3f3",
           "#FF6692",
           "#B6E880",
           "#FF97FF",
           "#FECB52"
          ],
          "font": {
           "color": "#2a3f5f"
          },
          "geo": {
           "bgcolor": "white",
           "lakecolor": "white",
           "landcolor": "#E5ECF6",
           "showlakes": true,
           "showland": true,
           "subunitcolor": "white"
          },
          "hoverlabel": {
           "align": "left"
          },
          "hovermode": "closest",
          "mapbox": {
           "style": "light"
          },
          "paper_bgcolor": "white",
          "plot_bgcolor": "#E5ECF6",
          "polar": {
           "angularaxis": {
            "gridcolor": "white",
            "linecolor": "white",
            "ticks": ""
           },
           "bgcolor": "#E5ECF6",
           "radialaxis": {
            "gridcolor": "white",
            "linecolor": "white",
            "ticks": ""
           }
          },
          "scene": {
           "xaxis": {
            "backgroundcolor": "#E5ECF6",
            "gridcolor": "white",
            "gridwidth": 2,
            "linecolor": "white",
            "showbackground": true,
            "ticks": "",
            "zerolinecolor": "white"
           },
           "yaxis": {
            "backgroundcolor": "#E5ECF6",
            "gridcolor": "white",
            "gridwidth": 2,
            "linecolor": "white",
            "showbackground": true,
            "ticks": "",
            "zerolinecolor": "white"
           },
           "zaxis": {
            "backgroundcolor": "#E5ECF6",
            "gridcolor": "white",
            "gridwidth": 2,
            "linecolor": "white",
            "showbackground": true,
            "ticks": "",
            "zerolinecolor": "white"
           }
          },
          "shapedefaults": {
           "line": {
            "color": "#2a3f5f"
           }
          },
          "ternary": {
           "aaxis": {
            "gridcolor": "white",
            "linecolor": "white",
            "ticks": ""
           },
           "baxis": {
            "gridcolor": "white",
            "linecolor": "white",
            "ticks": ""
           },
           "bgcolor": "#E5ECF6",
           "caxis": {
            "gridcolor": "white",
            "linecolor": "white",
            "ticks": ""
           }
          },
          "title": {
           "x": 0.05
          },
          "xaxis": {
           "automargin": true,
           "gridcolor": "white",
           "linecolor": "white",
           "ticks": "",
           "title": {
            "standoff": 15
           },
           "zerolinecolor": "white",
           "zerolinewidth": 2
          },
          "yaxis": {
           "automargin": true,
           "gridcolor": "white",
           "linecolor": "white",
           "ticks": "",
           "title": {
            "standoff": 15
           },
           "zerolinecolor": "white",
           "zerolinewidth": 2
          }
         }
        },
        "title": {
         "text": "Random Gates"
        },
        "width": 1000,
        "xaxis": {
         "title": {
          "text": "Task similarity"
         }
        },
        "yaxis": {
         "title": {
          "text": "Overlap Values"
         }
        }
       }
      },
      "text/html": [
       "<div>                            <div id=\"33552b09-c8b5-42fb-982a-8da2e13059db\" class=\"plotly-graph-div\" style=\"height:500px; width:1000px;\"></div>            <script type=\"text/javascript\">                require([\"plotly\"], function(Plotly) {                    window.PLOTLYENV=window.PLOTLYENV || {};                                    if (document.getElementById(\"33552b09-c8b5-42fb-982a-8da2e13059db\")) {                    Plotly.newPlot(                        \"33552b09-c8b5-42fb-982a-8da2e13059db\",                        [{\"error_y\":{\"array\":[0.0,0.0,0.0,0.0,0.0,0.0,0.0,0.0,0.0,0.0,0.0],\"type\":\"data\",\"visible\":true},\"mode\":\"lines+markers\",\"name\":\"sparsity:0.00\",\"x\":[0.0,0.1,0.2,0.30000000000000004,0.4,0.5,0.6000000000000001,0.7000000000000001,0.8,0.9,1.0],\"y\":[0.0,0.0,0.0,0.0,0.0,0.0,0.0,0.0,0.0,0.0,0.0],\"type\":\"scatter\"},{\"error_y\":{\"array\":[0.009806119836866856,0.010470911860466003,0.009871169924736023,0.009484725072979927,0.009666437283158302,0.010860939510166645,0.009467839263379574,0.009165150113403797,0.012048237025737762,0.009765245020389557,0.010703271254897118],\"type\":\"data\",\"visible\":true},\"mode\":\"lines+markers\",\"name\":\"sparsity:0.10\",\"x\":[0.0,0.1,0.2,0.30000000000000004,0.4,0.5,0.6000000000000001,0.7000000000000001,0.8,0.9,1.0],\"y\":[0.007199999410659075,0.009399999864399433,0.00839999970048666,0.010199999436736107,0.00839999970048666,0.010199999436736107,0.009399999864399433,0.009999999776482582,0.012199998833239079,0.009200000204145908,0.011200000531971455],\"type\":\"scatter\"},{\"error_y\":{\"array\":[0.016517870128154755,0.01846618391573429,0.017668047919869423,0.01908297650516033,0.0177718885242939,0.01755448617041111,0.019673332571983337,0.02071617916226387,0.021967248991131783,0.02148115634918213,0.018778713420033455],\"type\":\"data\",\"visible\":true},\"mode\":\"lines+markers\",\"name\":\"sparsity:0.20\",\"x\":[0.0,0.1,0.2,0.30000000000000004,0.4,0.5,0.6000000000000001,0.7000000000000001,0.8,0.9,1.0],\"y\":[0.034599997103214264,0.0429999902844429,0.04280000552535057,0.037199996411800385,0.04039999842643738,0.037199996411800385,0.04359999671578407,0.0421999953687191,0.04119999706745148,0.04159999638795853,0.04439999535679817],\"type\":\"scatter\"},{\"error_y\":{\"array\":[0.03256746754050255,0.027188967913389206,0.02639772742986679,0.030521467328071594,0.030877824872732162,0.02847033366560936,0.03157530352473259,0.03368144854903221,0.028417598456144333,0.029554016888141632,0.0239699799567461],\"type\":\"data\",\"visible\":true},\"mode\":\"lines+markers\",\"name\":\"sparsity:0.30\",\"x\":[0.0,0.1,0.2,0.30000000000000004,0.4,0.5,0.6000000000000001,0.7000000000000001,0.8,0.9,1.0],\"y\":[0.08560000360012054,0.08739999681711197,0.09539999067783356,0.08380000293254852,0.08839999884366989,0.08879999816417694,0.08899999409914017,0.0934000015258789,0.09619998931884766,0.08839999884366989,0.09120000898838043],\"type\":\"scatter\"},{\"error_y\":{\"array\":[0.033272210508584976,0.03763030841946602,0.03224654868245125,0.04245515167713165,0.03609376773238182,0.03731005638837814,0.03621270880103111,0.03858756273984909,0.03322649747133255,0.03131836652755737,0.04019999876618385],\"type\":\"data\",\"visible\":true},\"mode\":\"lines+markers\",\"name\":\"sparsity:0.40\",\"x\":[0.0,0.1,0.2,0.30000000000000004,0.4,0.5,0.6000000000000001,0.7000000000000001,0.8,0.9,1.0],\"y\":[0.15640002489089966,0.1613999903202057,0.16040000319480896,0.16339999437332153,0.16180001199245453,0.16140000522136688,0.1592000424861908,0.16300003230571747,0.14800000190734863,0.15540000796318054,0.16140003502368927],\"type\":\"scatter\"},{\"error_y\":{\"array\":[0.04396544024348259,0.037949442863464355,0.04387299716472626,0.03916580229997635,0.036828793585300446,0.0398617647588253,0.04455333948135376,0.04315599426627159,0.038731899112463,0.043104059994220734,0.03932632878422737],\"type\":\"data\",\"visible\":true},\"mode\":\"lines+markers\",\"name\":\"sparsity:0.50\",\"x\":[0.0,0.1,0.2,0.30000000000000004,0.4,0.5,0.6000000000000001,0.7000000000000001,0.8,0.9,1.0],\"y\":[0.2451999932527542,0.25279998779296875,0.24459998309612274,0.24979999661445618,0.2541999816894531,0.25519996881484985,0.2449999898672104,0.2533999979496002,0.24720001220703125,0.2497999519109726,0.24879997968673706],\"type\":\"scatter\"},{\"error_y\":{\"array\":[0.044522348791360855,0.041470952332019806,0.04420904442667961,0.0429883673787117,0.04990430176258087,0.041975706815719604,0.04413614794611931,0.04056056961417198,0.04651709273457527,0.03970944508910179,0.04334235563874245],\"type\":\"data\",\"visible\":true},\"mode\":\"lines+markers\",\"name\":\"sparsity:0.60\",\"x\":[0.0,0.1,0.2,0.30000000000000004,0.4,0.5,0.6000000000000001,0.7000000000000001,0.8,0.9,1.0],\"y\":[0.36239996552467346,0.36039999127388,0.3566000163555145,0.35999998450279236,0.35339999198913574,0.35019996762275696,0.3659999668598175,0.362199991941452,0.37039995193481445,0.37540000677108765,0.3688000440597534],\"type\":\"scatter\"},{\"error_y\":{\"array\":[0.04601782187819481,0.04839669540524483,0.05568338930606842,0.053553711622953415,0.0510392002761364,0.05567764490842819,0.04751252382993698,0.04784349352121353,0.044793304055929184,0.05635601654648781,0.04389123246073723],\"type\":\"data\",\"visible\":true},\"mode\":\"lines+markers\",\"name\":\"sparsity:0.70\",\"x\":[0.0,0.1,0.2,0.30000000000000004,0.4,0.5,0.6000000000000001,0.7000000000000001,0.8,0.9,1.0],\"y\":[0.480599969625473,0.4875999391078949,0.5056000351905823,0.48399996757507324,0.49699994921684265,0.4859999418258667,0.4915999472141266,0.49299997091293335,0.496599942445755,0.4979999363422394,0.496599942445755],\"type\":\"scatter\"},{\"error_y\":{\"array\":[0.0380888469517231,0.04763234406709671,0.04401136562228203,0.04644523561000824,0.03967064619064331,0.05717901885509491,0.0420708954334259,0.0433976948261261,0.0453537181019783,0.048548948019742966,0.053529806435108185],\"type\":\"data\",\"visible\":true},\"mode\":\"lines+markers\",\"name\":\"sparsity:0.80\",\"x\":[0.0,0.1,0.2,0.30000000000000004,0.4,0.5,0.6000000000000001,0.7000000000000001,0.8,0.9,1.0],\"y\":[0.6417999863624573,0.6453999876976013,0.6490000486373901,0.6477999687194824,0.6432000398635864,0.6383999586105347,0.6398000121116638,0.6407999992370605,0.6547999382019043,0.640999972820282,0.6383999586105347],\"type\":\"scatter\"},{\"error_y\":{\"array\":[0.037161268293857574,0.03091924637556076,0.0358111746609211,0.04898325726389885,0.044586993753910065,0.03360000252723694,0.03966912999749184,0.04434816539287567,0.036274515092372894,0.035184651613235474,0.03612423315644264],\"type\":\"data\",\"visible\":true},\"mode\":\"lines+markers\",\"name\":\"sparsity:0.90\",\"x\":[0.0,0.1,0.2,0.30000000000000004,0.4,0.5,0.6000000000000001,0.7000000000000001,0.8,0.9,1.0],\"y\":[0.8151999711990356,0.8100000023841858,0.8065999150276184,0.8092000484466553,0.8140000700950623,0.8052000403404236,0.8106001019477844,0.8082000613212585,0.8095999956130981,0.8002000451087952,0.805199921131134],\"type\":\"scatter\"},{\"error_y\":{\"array\":[0.0,0.0,0.0,0.0,0.0,0.0,0.0,0.0,0.0,0.0,0.0],\"type\":\"data\",\"visible\":true},\"mode\":\"lines+markers\",\"name\":\"sparsity:1.00\",\"x\":[0.0,0.1,0.2,0.30000000000000004,0.4,0.5,0.6000000000000001,0.7000000000000001,0.8,0.9,1.0],\"y\":[1.0,1.0,1.0,1.0,1.0,1.0,1.0,1.0,1.0,1.0,1.0],\"type\":\"scatter\"}],                        {\"template\":{\"data\":{\"histogram2dcontour\":[{\"type\":\"histogram2dcontour\",\"colorbar\":{\"outlinewidth\":0,\"ticks\":\"\"},\"colorscale\":[[0.0,\"#0d0887\"],[0.1111111111111111,\"#46039f\"],[0.2222222222222222,\"#7201a8\"],[0.3333333333333333,\"#9c179e\"],[0.4444444444444444,\"#bd3786\"],[0.5555555555555556,\"#d8576b\"],[0.6666666666666666,\"#ed7953\"],[0.7777777777777778,\"#fb9f3a\"],[0.8888888888888888,\"#fdca26\"],[1.0,\"#f0f921\"]]}],\"choropleth\":[{\"type\":\"choropleth\",\"colorbar\":{\"outlinewidth\":0,\"ticks\":\"\"}}],\"histogram2d\":[{\"type\":\"histogram2d\",\"colorbar\":{\"outlinewidth\":0,\"ticks\":\"\"},\"colorscale\":[[0.0,\"#0d0887\"],[0.1111111111111111,\"#46039f\"],[0.2222222222222222,\"#7201a8\"],[0.3333333333333333,\"#9c179e\"],[0.4444444444444444,\"#bd3786\"],[0.5555555555555556,\"#d8576b\"],[0.6666666666666666,\"#ed7953\"],[0.7777777777777778,\"#fb9f3a\"],[0.8888888888888888,\"#fdca26\"],[1.0,\"#f0f921\"]]}],\"heatmap\":[{\"type\":\"heatmap\",\"colorbar\":{\"outlinewidth\":0,\"ticks\":\"\"},\"colorscale\":[[0.0,\"#0d0887\"],[0.1111111111111111,\"#46039f\"],[0.2222222222222222,\"#7201a8\"],[0.3333333333333333,\"#9c179e\"],[0.4444444444444444,\"#bd3786\"],[0.5555555555555556,\"#d8576b\"],[0.6666666666666666,\"#ed7953\"],[0.7777777777777778,\"#fb9f3a\"],[0.8888888888888888,\"#fdca26\"],[1.0,\"#f0f921\"]]}],\"heatmapgl\":[{\"type\":\"heatmapgl\",\"colorbar\":{\"outlinewidth\":0,\"ticks\":\"\"},\"colorscale\":[[0.0,\"#0d0887\"],[0.1111111111111111,\"#46039f\"],[0.2222222222222222,\"#7201a8\"],[0.3333333333333333,\"#9c179e\"],[0.4444444444444444,\"#bd3786\"],[0.5555555555555556,\"#d8576b\"],[0.6666666666666666,\"#ed7953\"],[0.7777777777777778,\"#fb9f3a\"],[0.8888888888888888,\"#fdca26\"],[1.0,\"#f0f921\"]]}],\"contourcarpet\":[{\"type\":\"contourcarpet\",\"colorbar\":{\"outlinewidth\":0,\"ticks\":\"\"}}],\"contour\":[{\"type\":\"contour\",\"colorbar\":{\"outlinewidth\":0,\"ticks\":\"\"},\"colorscale\":[[0.0,\"#0d0887\"],[0.1111111111111111,\"#46039f\"],[0.2222222222222222,\"#7201a8\"],[0.3333333333333333,\"#9c179e\"],[0.4444444444444444,\"#bd3786\"],[0.5555555555555556,\"#d8576b\"],[0.6666666666666666,\"#ed7953\"],[0.7777777777777778,\"#fb9f3a\"],[0.8888888888888888,\"#fdca26\"],[1.0,\"#f0f921\"]]}],\"surface\":[{\"type\":\"surface\",\"colorbar\":{\"outlinewidth\":0,\"ticks\":\"\"},\"colorscale\":[[0.0,\"#0d0887\"],[0.1111111111111111,\"#46039f\"],[0.2222222222222222,\"#7201a8\"],[0.3333333333333333,\"#9c179e\"],[0.4444444444444444,\"#bd3786\"],[0.5555555555555556,\"#d8576b\"],[0.6666666666666666,\"#ed7953\"],[0.7777777777777778,\"#fb9f3a\"],[0.8888888888888888,\"#fdca26\"],[1.0,\"#f0f921\"]]}],\"mesh3d\":[{\"type\":\"mesh3d\",\"colorbar\":{\"outlinewidth\":0,\"ticks\":\"\"}}],\"scatter\":[{\"fillpattern\":{\"fillmode\":\"overlay\",\"size\":10,\"solidity\":0.2},\"type\":\"scatter\"}],\"parcoords\":[{\"type\":\"parcoords\",\"line\":{\"colorbar\":{\"outlinewidth\":0,\"ticks\":\"\"}}}],\"scatterpolargl\":[{\"type\":\"scatterpolargl\",\"marker\":{\"colorbar\":{\"outlinewidth\":0,\"ticks\":\"\"}}}],\"bar\":[{\"error_x\":{\"color\":\"#2a3f5f\"},\"error_y\":{\"color\":\"#2a3f5f\"},\"marker\":{\"line\":{\"color\":\"#E5ECF6\",\"width\":0.5},\"pattern\":{\"fillmode\":\"overlay\",\"size\":10,\"solidity\":0.2}},\"type\":\"bar\"}],\"scattergeo\":[{\"type\":\"scattergeo\",\"marker\":{\"colorbar\":{\"outlinewidth\":0,\"ticks\":\"\"}}}],\"scatterpolar\":[{\"type\":\"scatterpolar\",\"marker\":{\"colorbar\":{\"outlinewidth\":0,\"ticks\":\"\"}}}],\"histogram\":[{\"marker\":{\"pattern\":{\"fillmode\":\"overlay\",\"size\":10,\"solidity\":0.2}},\"type\":\"histogram\"}],\"scattergl\":[{\"type\":\"scattergl\",\"marker\":{\"colorbar\":{\"outlinewidth\":0,\"ticks\":\"\"}}}],\"scatter3d\":[{\"type\":\"scatter3d\",\"line\":{\"colorbar\":{\"outlinewidth\":0,\"ticks\":\"\"}},\"marker\":{\"colorbar\":{\"outlinewidth\":0,\"ticks\":\"\"}}}],\"scattermapbox\":[{\"type\":\"scattermapbox\",\"marker\":{\"colorbar\":{\"outlinewidth\":0,\"ticks\":\"\"}}}],\"scatterternary\":[{\"type\":\"scatterternary\",\"marker\":{\"colorbar\":{\"outlinewidth\":0,\"ticks\":\"\"}}}],\"scattercarpet\":[{\"type\":\"scattercarpet\",\"marker\":{\"colorbar\":{\"outlinewidth\":0,\"ticks\":\"\"}}}],\"carpet\":[{\"aaxis\":{\"endlinecolor\":\"#2a3f5f\",\"gridcolor\":\"white\",\"linecolor\":\"white\",\"minorgridcolor\":\"white\",\"startlinecolor\":\"#2a3f5f\"},\"baxis\":{\"endlinecolor\":\"#2a3f5f\",\"gridcolor\":\"white\",\"linecolor\":\"white\",\"minorgridcolor\":\"white\",\"startlinecolor\":\"#2a3f5f\"},\"type\":\"carpet\"}],\"table\":[{\"cells\":{\"fill\":{\"color\":\"#EBF0F8\"},\"line\":{\"color\":\"white\"}},\"header\":{\"fill\":{\"color\":\"#C8D4E3\"},\"line\":{\"color\":\"white\"}},\"type\":\"table\"}],\"barpolar\":[{\"marker\":{\"line\":{\"color\":\"#E5ECF6\",\"width\":0.5},\"pattern\":{\"fillmode\":\"overlay\",\"size\":10,\"solidity\":0.2}},\"type\":\"barpolar\"}],\"pie\":[{\"automargin\":true,\"type\":\"pie\"}]},\"layout\":{\"autotypenumbers\":\"strict\",\"colorway\":[\"#636efa\",\"#EF553B\",\"#00cc96\",\"#ab63fa\",\"#FFA15A\",\"#19d3f3\",\"#FF6692\",\"#B6E880\",\"#FF97FF\",\"#FECB52\"],\"font\":{\"color\":\"#2a3f5f\"},\"hovermode\":\"closest\",\"hoverlabel\":{\"align\":\"left\"},\"paper_bgcolor\":\"white\",\"plot_bgcolor\":\"#E5ECF6\",\"polar\":{\"bgcolor\":\"#E5ECF6\",\"angularaxis\":{\"gridcolor\":\"white\",\"linecolor\":\"white\",\"ticks\":\"\"},\"radialaxis\":{\"gridcolor\":\"white\",\"linecolor\":\"white\",\"ticks\":\"\"}},\"ternary\":{\"bgcolor\":\"#E5ECF6\",\"aaxis\":{\"gridcolor\":\"white\",\"linecolor\":\"white\",\"ticks\":\"\"},\"baxis\":{\"gridcolor\":\"white\",\"linecolor\":\"white\",\"ticks\":\"\"},\"caxis\":{\"gridcolor\":\"white\",\"linecolor\":\"white\",\"ticks\":\"\"}},\"coloraxis\":{\"colorbar\":{\"outlinewidth\":0,\"ticks\":\"\"}},\"colorscale\":{\"sequential\":[[0.0,\"#0d0887\"],[0.1111111111111111,\"#46039f\"],[0.2222222222222222,\"#7201a8\"],[0.3333333333333333,\"#9c179e\"],[0.4444444444444444,\"#bd3786\"],[0.5555555555555556,\"#d8576b\"],[0.6666666666666666,\"#ed7953\"],[0.7777777777777778,\"#fb9f3a\"],[0.8888888888888888,\"#fdca26\"],[1.0,\"#f0f921\"]],\"sequentialminus\":[[0.0,\"#0d0887\"],[0.1111111111111111,\"#46039f\"],[0.2222222222222222,\"#7201a8\"],[0.3333333333333333,\"#9c179e\"],[0.4444444444444444,\"#bd3786\"],[0.5555555555555556,\"#d8576b\"],[0.6666666666666666,\"#ed7953\"],[0.7777777777777778,\"#fb9f3a\"],[0.8888888888888888,\"#fdca26\"],[1.0,\"#f0f921\"]],\"diverging\":[[0,\"#8e0152\"],[0.1,\"#c51b7d\"],[0.2,\"#de77ae\"],[0.3,\"#f1b6da\"],[0.4,\"#fde0ef\"],[0.5,\"#f7f7f7\"],[0.6,\"#e6f5d0\"],[0.7,\"#b8e186\"],[0.8,\"#7fbc41\"],[0.9,\"#4d9221\"],[1,\"#276419\"]]},\"xaxis\":{\"gridcolor\":\"white\",\"linecolor\":\"white\",\"ticks\":\"\",\"title\":{\"standoff\":15},\"zerolinecolor\":\"white\",\"automargin\":true,\"zerolinewidth\":2},\"yaxis\":{\"gridcolor\":\"white\",\"linecolor\":\"white\",\"ticks\":\"\",\"title\":{\"standoff\":15},\"zerolinecolor\":\"white\",\"automargin\":true,\"zerolinewidth\":2},\"scene\":{\"xaxis\":{\"backgroundcolor\":\"#E5ECF6\",\"gridcolor\":\"white\",\"linecolor\":\"white\",\"showbackground\":true,\"ticks\":\"\",\"zerolinecolor\":\"white\",\"gridwidth\":2},\"yaxis\":{\"backgroundcolor\":\"#E5ECF6\",\"gridcolor\":\"white\",\"linecolor\":\"white\",\"showbackground\":true,\"ticks\":\"\",\"zerolinecolor\":\"white\",\"gridwidth\":2},\"zaxis\":{\"backgroundcolor\":\"#E5ECF6\",\"gridcolor\":\"white\",\"linecolor\":\"white\",\"showbackground\":true,\"ticks\":\"\",\"zerolinecolor\":\"white\",\"gridwidth\":2}},\"shapedefaults\":{\"line\":{\"color\":\"#2a3f5f\"}},\"annotationdefaults\":{\"arrowcolor\":\"#2a3f5f\",\"arrowhead\":0,\"arrowwidth\":1},\"geo\":{\"bgcolor\":\"white\",\"landcolor\":\"#E5ECF6\",\"subunitcolor\":\"white\",\"showland\":true,\"showlakes\":true,\"lakecolor\":\"white\"},\"title\":{\"x\":0.05},\"mapbox\":{\"style\":\"light\"}}},\"showlegend\":true,\"title\":{\"text\":\"Random Gates\"},\"xaxis\":{\"title\":{\"text\":\"Task similarity\"}},\"yaxis\":{\"title\":{\"text\":\"Overlap Values\"}},\"width\":1000,\"height\":500},                        {\"responsive\": true}                    ).then(function(){\n",
       "                            \n",
       "var gd = document.getElementById('33552b09-c8b5-42fb-982a-8da2e13059db');\n",
       "var x = new MutationObserver(function (mutations, observer) {{\n",
       "        var display = window.getComputedStyle(gd).display;\n",
       "        if (!display || display === 'none') {{\n",
       "            console.log([gd, 'removed!']);\n",
       "            Plotly.purge(gd);\n",
       "            observer.disconnect();\n",
       "        }}\n",
       "}});\n",
       "\n",
       "// Listen for the removal of the full notebook cells\n",
       "var notebookContainer = gd.closest('#notebook-container');\n",
       "if (notebookContainer) {{\n",
       "    x.observe(notebookContainer, {childList: true});\n",
       "}}\n",
       "\n",
       "// Listen for the clearing of the current output cell\n",
       "var outputEl = gd.closest('.output');\n",
       "if (outputEl) {{\n",
       "    x.observe(outputEl, {childList: true});\n",
       "}}\n",
       "\n",
       "                        })                };                });            </script>        </div>"
      ]
     },
     "metadata": {},
     "output_type": "display_data"
    },
    {
     "data": {
      "application/vnd.plotly.v1+json": {
       "config": {
        "plotlyServerURL": "https://plot.ly"
       },
       "data": [
        {
         "error_y": {
          "array": [
           0
          ],
          "type": "data",
          "visible": true
         },
         "mode": "lines+markers",
         "name": "mean N 1's",
         "type": "scatter",
         "x": [
          0,
          0.1,
          0.2,
          0.30000000000000004,
          0.4,
          0.5,
          0.6000000000000001,
          0.7000000000000001,
          0.8,
          0.9,
          1
         ],
         "y": [
          0
         ]
        },
        {
         "error_y": {
          "array": [
           31.33687973022461
          ],
          "type": "data",
          "visible": true
         },
         "mode": "lines+markers",
         "name": "mean N 1's",
         "type": "scatter",
         "x": [
          0,
          0.1,
          0.2,
          0.30000000000000004,
          0.4,
          0.5,
          0.6000000000000001,
          0.7000000000000001,
          0.8,
          0.9,
          1
         ],
         "y": [
          1002
         ]
        },
        {
         "error_y": {
          "array": [
           29.180828094482422
          ],
          "type": "data",
          "visible": true
         },
         "mode": "lines+markers",
         "name": "mean N 1's",
         "type": "scatter",
         "x": [
          0,
          0.1,
          0.2,
          0.30000000000000004,
          0.4,
          0.5,
          0.6000000000000001,
          0.7000000000000001,
          0.8,
          0.9,
          1
         ],
         "y": [
          2010.5455322265625
         ]
        },
        {
         "error_y": {
          "array": [
           57.60896682739258
          ],
          "type": "data",
          "visible": true
         },
         "mode": "lines+markers",
         "name": "mean N 1's",
         "type": "scatter",
         "x": [
          0,
          0.1,
          0.2,
          0.30000000000000004,
          0.4,
          0.5,
          0.6000000000000001,
          0.7000000000000001,
          0.8,
          0.9,
          1
         ],
         "y": [
          2981.545654296875
         ]
        },
        {
         "error_y": {
          "array": [
           47.352378845214844
          ],
          "type": "data",
          "visible": true
         },
         "mode": "lines+markers",
         "name": "mean N 1's",
         "type": "scatter",
         "x": [
          0,
          0.1,
          0.2,
          0.30000000000000004,
          0.4,
          0.5,
          0.6000000000000001,
          0.7000000000000001,
          0.8,
          0.9,
          1
         ],
         "y": [
          3985.45458984375
         ]
        },
        {
         "error_y": {
          "array": [
           37.83413314819336
          ],
          "type": "data",
          "visible": true
         },
         "mode": "lines+markers",
         "name": "mean N 1's",
         "type": "scatter",
         "x": [
          0,
          0.1,
          0.2,
          0.30000000000000004,
          0.4,
          0.5,
          0.6000000000000001,
          0.7000000000000001,
          0.8,
          0.9,
          1
         ],
         "y": [
          4985.18212890625
         ]
        },
        {
         "error_y": {
          "array": [
           57.79330825805664
          ],
          "type": "data",
          "visible": true
         },
         "mode": "lines+markers",
         "name": "mean N 1's",
         "type": "scatter",
         "x": [
          0,
          0.1,
          0.2,
          0.30000000000000004,
          0.4,
          0.5,
          0.6000000000000001,
          0.7000000000000001,
          0.8,
          0.9,
          1
         ],
         "y": [
          6011.45458984375
         ]
        },
        {
         "error_y": {
          "array": [
           49.24235916137695
          ],
          "type": "data",
          "visible": true
         },
         "mode": "lines+markers",
         "name": "mean N 1's",
         "type": "scatter",
         "x": [
          0,
          0.1,
          0.2,
          0.30000000000000004,
          0.4,
          0.5,
          0.6000000000000001,
          0.7000000000000001,
          0.8,
          0.9,
          1
         ],
         "y": [
          7017.09130859375
         ]
        },
        {
         "error_y": {
          "array": [
           24.998512268066406
          ],
          "type": "data",
          "visible": true
         },
         "mode": "lines+markers",
         "name": "mean N 1's",
         "type": "scatter",
         "x": [
          0,
          0.1,
          0.2,
          0.30000000000000004,
          0.4,
          0.5,
          0.6000000000000001,
          0.7000000000000001,
          0.8,
          0.9,
          1
         ],
         "y": [
          8015.7275390625
         ]
        },
        {
         "error_y": {
          "array": [
           24.18250274658203
          ],
          "type": "data",
          "visible": true
         },
         "mode": "lines+markers",
         "name": "mean N 1's",
         "type": "scatter",
         "x": [
          0,
          0.1,
          0.2,
          0.30000000000000004,
          0.4,
          0.5,
          0.6000000000000001,
          0.7000000000000001,
          0.8,
          0.9,
          1
         ],
         "y": [
          8993.455078125
         ]
        },
        {
         "error_y": {
          "array": [
           0
          ],
          "type": "data",
          "visible": true
         },
         "mode": "lines+markers",
         "name": "mean N 1's",
         "type": "scatter",
         "x": [
          0,
          0.1,
          0.2,
          0.30000000000000004,
          0.4,
          0.5,
          0.6000000000000001,
          0.7000000000000001,
          0.8,
          0.9,
          1
         ],
         "y": [
          10000
         ]
        }
       ],
       "layout": {
        "showlegend": true,
        "template": {
         "data": {
          "bar": [
           {
            "error_x": {
             "color": "#2a3f5f"
            },
            "error_y": {
             "color": "#2a3f5f"
            },
            "marker": {
             "line": {
              "color": "#E5ECF6",
              "width": 0.5
             },
             "pattern": {
              "fillmode": "overlay",
              "size": 10,
              "solidity": 0.2
             }
            },
            "type": "bar"
           }
          ],
          "barpolar": [
           {
            "marker": {
             "line": {
              "color": "#E5ECF6",
              "width": 0.5
             },
             "pattern": {
              "fillmode": "overlay",
              "size": 10,
              "solidity": 0.2
             }
            },
            "type": "barpolar"
           }
          ],
          "carpet": [
           {
            "aaxis": {
             "endlinecolor": "#2a3f5f",
             "gridcolor": "white",
             "linecolor": "white",
             "minorgridcolor": "white",
             "startlinecolor": "#2a3f5f"
            },
            "baxis": {
             "endlinecolor": "#2a3f5f",
             "gridcolor": "white",
             "linecolor": "white",
             "minorgridcolor": "white",
             "startlinecolor": "#2a3f5f"
            },
            "type": "carpet"
           }
          ],
          "choropleth": [
           {
            "colorbar": {
             "outlinewidth": 0,
             "ticks": ""
            },
            "type": "choropleth"
           }
          ],
          "contour": [
           {
            "colorbar": {
             "outlinewidth": 0,
             "ticks": ""
            },
            "colorscale": [
             [
              0,
              "#0d0887"
             ],
             [
              0.1111111111111111,
              "#46039f"
             ],
             [
              0.2222222222222222,
              "#7201a8"
             ],
             [
              0.3333333333333333,
              "#9c179e"
             ],
             [
              0.4444444444444444,
              "#bd3786"
             ],
             [
              0.5555555555555556,
              "#d8576b"
             ],
             [
              0.6666666666666666,
              "#ed7953"
             ],
             [
              0.7777777777777778,
              "#fb9f3a"
             ],
             [
              0.8888888888888888,
              "#fdca26"
             ],
             [
              1,
              "#f0f921"
             ]
            ],
            "type": "contour"
           }
          ],
          "contourcarpet": [
           {
            "colorbar": {
             "outlinewidth": 0,
             "ticks": ""
            },
            "type": "contourcarpet"
           }
          ],
          "heatmap": [
           {
            "colorbar": {
             "outlinewidth": 0,
             "ticks": ""
            },
            "colorscale": [
             [
              0,
              "#0d0887"
             ],
             [
              0.1111111111111111,
              "#46039f"
             ],
             [
              0.2222222222222222,
              "#7201a8"
             ],
             [
              0.3333333333333333,
              "#9c179e"
             ],
             [
              0.4444444444444444,
              "#bd3786"
             ],
             [
              0.5555555555555556,
              "#d8576b"
             ],
             [
              0.6666666666666666,
              "#ed7953"
             ],
             [
              0.7777777777777778,
              "#fb9f3a"
             ],
             [
              0.8888888888888888,
              "#fdca26"
             ],
             [
              1,
              "#f0f921"
             ]
            ],
            "type": "heatmap"
           }
          ],
          "heatmapgl": [
           {
            "colorbar": {
             "outlinewidth": 0,
             "ticks": ""
            },
            "colorscale": [
             [
              0,
              "#0d0887"
             ],
             [
              0.1111111111111111,
              "#46039f"
             ],
             [
              0.2222222222222222,
              "#7201a8"
             ],
             [
              0.3333333333333333,
              "#9c179e"
             ],
             [
              0.4444444444444444,
              "#bd3786"
             ],
             [
              0.5555555555555556,
              "#d8576b"
             ],
             [
              0.6666666666666666,
              "#ed7953"
             ],
             [
              0.7777777777777778,
              "#fb9f3a"
             ],
             [
              0.8888888888888888,
              "#fdca26"
             ],
             [
              1,
              "#f0f921"
             ]
            ],
            "type": "heatmapgl"
           }
          ],
          "histogram": [
           {
            "marker": {
             "pattern": {
              "fillmode": "overlay",
              "size": 10,
              "solidity": 0.2
             }
            },
            "type": "histogram"
           }
          ],
          "histogram2d": [
           {
            "colorbar": {
             "outlinewidth": 0,
             "ticks": ""
            },
            "colorscale": [
             [
              0,
              "#0d0887"
             ],
             [
              0.1111111111111111,
              "#46039f"
             ],
             [
              0.2222222222222222,
              "#7201a8"
             ],
             [
              0.3333333333333333,
              "#9c179e"
             ],
             [
              0.4444444444444444,
              "#bd3786"
             ],
             [
              0.5555555555555556,
              "#d8576b"
             ],
             [
              0.6666666666666666,
              "#ed7953"
             ],
             [
              0.7777777777777778,
              "#fb9f3a"
             ],
             [
              0.8888888888888888,
              "#fdca26"
             ],
             [
              1,
              "#f0f921"
             ]
            ],
            "type": "histogram2d"
           }
          ],
          "histogram2dcontour": [
           {
            "colorbar": {
             "outlinewidth": 0,
             "ticks": ""
            },
            "colorscale": [
             [
              0,
              "#0d0887"
             ],
             [
              0.1111111111111111,
              "#46039f"
             ],
             [
              0.2222222222222222,
              "#7201a8"
             ],
             [
              0.3333333333333333,
              "#9c179e"
             ],
             [
              0.4444444444444444,
              "#bd3786"
             ],
             [
              0.5555555555555556,
              "#d8576b"
             ],
             [
              0.6666666666666666,
              "#ed7953"
             ],
             [
              0.7777777777777778,
              "#fb9f3a"
             ],
             [
              0.8888888888888888,
              "#fdca26"
             ],
             [
              1,
              "#f0f921"
             ]
            ],
            "type": "histogram2dcontour"
           }
          ],
          "mesh3d": [
           {
            "colorbar": {
             "outlinewidth": 0,
             "ticks": ""
            },
            "type": "mesh3d"
           }
          ],
          "parcoords": [
           {
            "line": {
             "colorbar": {
              "outlinewidth": 0,
              "ticks": ""
             }
            },
            "type": "parcoords"
           }
          ],
          "pie": [
           {
            "automargin": true,
            "type": "pie"
           }
          ],
          "scatter": [
           {
            "fillpattern": {
             "fillmode": "overlay",
             "size": 10,
             "solidity": 0.2
            },
            "type": "scatter"
           }
          ],
          "scatter3d": [
           {
            "line": {
             "colorbar": {
              "outlinewidth": 0,
              "ticks": ""
             }
            },
            "marker": {
             "colorbar": {
              "outlinewidth": 0,
              "ticks": ""
             }
            },
            "type": "scatter3d"
           }
          ],
          "scattercarpet": [
           {
            "marker": {
             "colorbar": {
              "outlinewidth": 0,
              "ticks": ""
             }
            },
            "type": "scattercarpet"
           }
          ],
          "scattergeo": [
           {
            "marker": {
             "colorbar": {
              "outlinewidth": 0,
              "ticks": ""
             }
            },
            "type": "scattergeo"
           }
          ],
          "scattergl": [
           {
            "marker": {
             "colorbar": {
              "outlinewidth": 0,
              "ticks": ""
             }
            },
            "type": "scattergl"
           }
          ],
          "scattermapbox": [
           {
            "marker": {
             "colorbar": {
              "outlinewidth": 0,
              "ticks": ""
             }
            },
            "type": "scattermapbox"
           }
          ],
          "scatterpolar": [
           {
            "marker": {
             "colorbar": {
              "outlinewidth": 0,
              "ticks": ""
             }
            },
            "type": "scatterpolar"
           }
          ],
          "scatterpolargl": [
           {
            "marker": {
             "colorbar": {
              "outlinewidth": 0,
              "ticks": ""
             }
            },
            "type": "scatterpolargl"
           }
          ],
          "scatterternary": [
           {
            "marker": {
             "colorbar": {
              "outlinewidth": 0,
              "ticks": ""
             }
            },
            "type": "scatterternary"
           }
          ],
          "surface": [
           {
            "colorbar": {
             "outlinewidth": 0,
             "ticks": ""
            },
            "colorscale": [
             [
              0,
              "#0d0887"
             ],
             [
              0.1111111111111111,
              "#46039f"
             ],
             [
              0.2222222222222222,
              "#7201a8"
             ],
             [
              0.3333333333333333,
              "#9c179e"
             ],
             [
              0.4444444444444444,
              "#bd3786"
             ],
             [
              0.5555555555555556,
              "#d8576b"
             ],
             [
              0.6666666666666666,
              "#ed7953"
             ],
             [
              0.7777777777777778,
              "#fb9f3a"
             ],
             [
              0.8888888888888888,
              "#fdca26"
             ],
             [
              1,
              "#f0f921"
             ]
            ],
            "type": "surface"
           }
          ],
          "table": [
           {
            "cells": {
             "fill": {
              "color": "#EBF0F8"
             },
             "line": {
              "color": "white"
             }
            },
            "header": {
             "fill": {
              "color": "#C8D4E3"
             },
             "line": {
              "color": "white"
             }
            },
            "type": "table"
           }
          ]
         },
         "layout": {
          "annotationdefaults": {
           "arrowcolor": "#2a3f5f",
           "arrowhead": 0,
           "arrowwidth": 1
          },
          "autotypenumbers": "strict",
          "coloraxis": {
           "colorbar": {
            "outlinewidth": 0,
            "ticks": ""
           }
          },
          "colorscale": {
           "diverging": [
            [
             0,
             "#8e0152"
            ],
            [
             0.1,
             "#c51b7d"
            ],
            [
             0.2,
             "#de77ae"
            ],
            [
             0.3,
             "#f1b6da"
            ],
            [
             0.4,
             "#fde0ef"
            ],
            [
             0.5,
             "#f7f7f7"
            ],
            [
             0.6,
             "#e6f5d0"
            ],
            [
             0.7,
             "#b8e186"
            ],
            [
             0.8,
             "#7fbc41"
            ],
            [
             0.9,
             "#4d9221"
            ],
            [
             1,
             "#276419"
            ]
           ],
           "sequential": [
            [
             0,
             "#0d0887"
            ],
            [
             0.1111111111111111,
             "#46039f"
            ],
            [
             0.2222222222222222,
             "#7201a8"
            ],
            [
             0.3333333333333333,
             "#9c179e"
            ],
            [
             0.4444444444444444,
             "#bd3786"
            ],
            [
             0.5555555555555556,
             "#d8576b"
            ],
            [
             0.6666666666666666,
             "#ed7953"
            ],
            [
             0.7777777777777778,
             "#fb9f3a"
            ],
            [
             0.8888888888888888,
             "#fdca26"
            ],
            [
             1,
             "#f0f921"
            ]
           ],
           "sequentialminus": [
            [
             0,
             "#0d0887"
            ],
            [
             0.1111111111111111,
             "#46039f"
            ],
            [
             0.2222222222222222,
             "#7201a8"
            ],
            [
             0.3333333333333333,
             "#9c179e"
            ],
            [
             0.4444444444444444,
             "#bd3786"
            ],
            [
             0.5555555555555556,
             "#d8576b"
            ],
            [
             0.6666666666666666,
             "#ed7953"
            ],
            [
             0.7777777777777778,
             "#fb9f3a"
            ],
            [
             0.8888888888888888,
             "#fdca26"
            ],
            [
             1,
             "#f0f921"
            ]
           ]
          },
          "colorway": [
           "#636efa",
           "#EF553B",
           "#00cc96",
           "#ab63fa",
           "#FFA15A",
           "#19d3f3",
           "#FF6692",
           "#B6E880",
           "#FF97FF",
           "#FECB52"
          ],
          "font": {
           "color": "#2a3f5f"
          },
          "geo": {
           "bgcolor": "white",
           "lakecolor": "white",
           "landcolor": "#E5ECF6",
           "showlakes": true,
           "showland": true,
           "subunitcolor": "white"
          },
          "hoverlabel": {
           "align": "left"
          },
          "hovermode": "closest",
          "mapbox": {
           "style": "light"
          },
          "paper_bgcolor": "white",
          "plot_bgcolor": "#E5ECF6",
          "polar": {
           "angularaxis": {
            "gridcolor": "white",
            "linecolor": "white",
            "ticks": ""
           },
           "bgcolor": "#E5ECF6",
           "radialaxis": {
            "gridcolor": "white",
            "linecolor": "white",
            "ticks": ""
           }
          },
          "scene": {
           "xaxis": {
            "backgroundcolor": "#E5ECF6",
            "gridcolor": "white",
            "gridwidth": 2,
            "linecolor": "white",
            "showbackground": true,
            "ticks": "",
            "zerolinecolor": "white"
           },
           "yaxis": {
            "backgroundcolor": "#E5ECF6",
            "gridcolor": "white",
            "gridwidth": 2,
            "linecolor": "white",
            "showbackground": true,
            "ticks": "",
            "zerolinecolor": "white"
           },
           "zaxis": {
            "backgroundcolor": "#E5ECF6",
            "gridcolor": "white",
            "gridwidth": 2,
            "linecolor": "white",
            "showbackground": true,
            "ticks": "",
            "zerolinecolor": "white"
           }
          },
          "shapedefaults": {
           "line": {
            "color": "#2a3f5f"
           }
          },
          "ternary": {
           "aaxis": {
            "gridcolor": "white",
            "linecolor": "white",
            "ticks": ""
           },
           "baxis": {
            "gridcolor": "white",
            "linecolor": "white",
            "ticks": ""
           },
           "bgcolor": "#E5ECF6",
           "caxis": {
            "gridcolor": "white",
            "linecolor": "white",
            "ticks": ""
           }
          },
          "title": {
           "x": 0.05
          },
          "xaxis": {
           "automargin": true,
           "gridcolor": "white",
           "linecolor": "white",
           "ticks": "",
           "title": {
            "standoff": 15
           },
           "zerolinecolor": "white",
           "zerolinewidth": 2
          },
          "yaxis": {
           "automargin": true,
           "gridcolor": "white",
           "linecolor": "white",
           "ticks": "",
           "title": {
            "standoff": 15
           },
           "zerolinecolor": "white",
           "zerolinewidth": 2
          }
         }
        },
        "title": {
         "text": "Numer of Active Units"
        },
        "xaxis": {
         "title": {
          "text": "Similarity"
         }
        },
        "yaxis": {
         "title": {
          "text": "Sum of AU"
         }
        }
       }
      },
      "text/html": [
       "<div>                            <div id=\"bb163ed2-be2b-4926-acbf-3cc015f6b026\" class=\"plotly-graph-div\" style=\"height:525px; width:100%;\"></div>            <script type=\"text/javascript\">                require([\"plotly\"], function(Plotly) {                    window.PLOTLYENV=window.PLOTLYENV || {};                                    if (document.getElementById(\"bb163ed2-be2b-4926-acbf-3cc015f6b026\")) {                    Plotly.newPlot(                        \"bb163ed2-be2b-4926-acbf-3cc015f6b026\",                        [{\"error_y\":{\"array\":[0.0],\"type\":\"data\",\"visible\":true},\"mode\":\"lines+markers\",\"name\":\"mean N 1's\",\"x\":[0.0,0.1,0.2,0.30000000000000004,0.4,0.5,0.6000000000000001,0.7000000000000001,0.8,0.9,1.0],\"y\":[0.0],\"type\":\"scatter\"},{\"error_y\":{\"array\":[31.33687973022461],\"type\":\"data\",\"visible\":true},\"mode\":\"lines+markers\",\"name\":\"mean N 1's\",\"x\":[0.0,0.1,0.2,0.30000000000000004,0.4,0.5,0.6000000000000001,0.7000000000000001,0.8,0.9,1.0],\"y\":[1002.0],\"type\":\"scatter\"},{\"error_y\":{\"array\":[29.180828094482422],\"type\":\"data\",\"visible\":true},\"mode\":\"lines+markers\",\"name\":\"mean N 1's\",\"x\":[0.0,0.1,0.2,0.30000000000000004,0.4,0.5,0.6000000000000001,0.7000000000000001,0.8,0.9,1.0],\"y\":[2010.5455322265625],\"type\":\"scatter\"},{\"error_y\":{\"array\":[57.60896682739258],\"type\":\"data\",\"visible\":true},\"mode\":\"lines+markers\",\"name\":\"mean N 1's\",\"x\":[0.0,0.1,0.2,0.30000000000000004,0.4,0.5,0.6000000000000001,0.7000000000000001,0.8,0.9,1.0],\"y\":[2981.545654296875],\"type\":\"scatter\"},{\"error_y\":{\"array\":[47.352378845214844],\"type\":\"data\",\"visible\":true},\"mode\":\"lines+markers\",\"name\":\"mean N 1's\",\"x\":[0.0,0.1,0.2,0.30000000000000004,0.4,0.5,0.6000000000000001,0.7000000000000001,0.8,0.9,1.0],\"y\":[3985.45458984375],\"type\":\"scatter\"},{\"error_y\":{\"array\":[37.83413314819336],\"type\":\"data\",\"visible\":true},\"mode\":\"lines+markers\",\"name\":\"mean N 1's\",\"x\":[0.0,0.1,0.2,0.30000000000000004,0.4,0.5,0.6000000000000001,0.7000000000000001,0.8,0.9,1.0],\"y\":[4985.18212890625],\"type\":\"scatter\"},{\"error_y\":{\"array\":[57.79330825805664],\"type\":\"data\",\"visible\":true},\"mode\":\"lines+markers\",\"name\":\"mean N 1's\",\"x\":[0.0,0.1,0.2,0.30000000000000004,0.4,0.5,0.6000000000000001,0.7000000000000001,0.8,0.9,1.0],\"y\":[6011.45458984375],\"type\":\"scatter\"},{\"error_y\":{\"array\":[49.24235916137695],\"type\":\"data\",\"visible\":true},\"mode\":\"lines+markers\",\"name\":\"mean N 1's\",\"x\":[0.0,0.1,0.2,0.30000000000000004,0.4,0.5,0.6000000000000001,0.7000000000000001,0.8,0.9,1.0],\"y\":[7017.09130859375],\"type\":\"scatter\"},{\"error_y\":{\"array\":[24.998512268066406],\"type\":\"data\",\"visible\":true},\"mode\":\"lines+markers\",\"name\":\"mean N 1's\",\"x\":[0.0,0.1,0.2,0.30000000000000004,0.4,0.5,0.6000000000000001,0.7000000000000001,0.8,0.9,1.0],\"y\":[8015.7275390625],\"type\":\"scatter\"},{\"error_y\":{\"array\":[24.18250274658203],\"type\":\"data\",\"visible\":true},\"mode\":\"lines+markers\",\"name\":\"mean N 1's\",\"x\":[0.0,0.1,0.2,0.30000000000000004,0.4,0.5,0.6000000000000001,0.7000000000000001,0.8,0.9,1.0],\"y\":[8993.455078125],\"type\":\"scatter\"},{\"error_y\":{\"array\":[0.0],\"type\":\"data\",\"visible\":true},\"mode\":\"lines+markers\",\"name\":\"mean N 1's\",\"x\":[0.0,0.1,0.2,0.30000000000000004,0.4,0.5,0.6000000000000001,0.7000000000000001,0.8,0.9,1.0],\"y\":[10000.0],\"type\":\"scatter\"}],                        {\"template\":{\"data\":{\"histogram2dcontour\":[{\"type\":\"histogram2dcontour\",\"colorbar\":{\"outlinewidth\":0,\"ticks\":\"\"},\"colorscale\":[[0.0,\"#0d0887\"],[0.1111111111111111,\"#46039f\"],[0.2222222222222222,\"#7201a8\"],[0.3333333333333333,\"#9c179e\"],[0.4444444444444444,\"#bd3786\"],[0.5555555555555556,\"#d8576b\"],[0.6666666666666666,\"#ed7953\"],[0.7777777777777778,\"#fb9f3a\"],[0.8888888888888888,\"#fdca26\"],[1.0,\"#f0f921\"]]}],\"choropleth\":[{\"type\":\"choropleth\",\"colorbar\":{\"outlinewidth\":0,\"ticks\":\"\"}}],\"histogram2d\":[{\"type\":\"histogram2d\",\"colorbar\":{\"outlinewidth\":0,\"ticks\":\"\"},\"colorscale\":[[0.0,\"#0d0887\"],[0.1111111111111111,\"#46039f\"],[0.2222222222222222,\"#7201a8\"],[0.3333333333333333,\"#9c179e\"],[0.4444444444444444,\"#bd3786\"],[0.5555555555555556,\"#d8576b\"],[0.6666666666666666,\"#ed7953\"],[0.7777777777777778,\"#fb9f3a\"],[0.8888888888888888,\"#fdca26\"],[1.0,\"#f0f921\"]]}],\"heatmap\":[{\"type\":\"heatmap\",\"colorbar\":{\"outlinewidth\":0,\"ticks\":\"\"},\"colorscale\":[[0.0,\"#0d0887\"],[0.1111111111111111,\"#46039f\"],[0.2222222222222222,\"#7201a8\"],[0.3333333333333333,\"#9c179e\"],[0.4444444444444444,\"#bd3786\"],[0.5555555555555556,\"#d8576b\"],[0.6666666666666666,\"#ed7953\"],[0.7777777777777778,\"#fb9f3a\"],[0.8888888888888888,\"#fdca26\"],[1.0,\"#f0f921\"]]}],\"heatmapgl\":[{\"type\":\"heatmapgl\",\"colorbar\":{\"outlinewidth\":0,\"ticks\":\"\"},\"colorscale\":[[0.0,\"#0d0887\"],[0.1111111111111111,\"#46039f\"],[0.2222222222222222,\"#7201a8\"],[0.3333333333333333,\"#9c179e\"],[0.4444444444444444,\"#bd3786\"],[0.5555555555555556,\"#d8576b\"],[0.6666666666666666,\"#ed7953\"],[0.7777777777777778,\"#fb9f3a\"],[0.8888888888888888,\"#fdca26\"],[1.0,\"#f0f921\"]]}],\"contourcarpet\":[{\"type\":\"contourcarpet\",\"colorbar\":{\"outlinewidth\":0,\"ticks\":\"\"}}],\"contour\":[{\"type\":\"contour\",\"colorbar\":{\"outlinewidth\":0,\"ticks\":\"\"},\"colorscale\":[[0.0,\"#0d0887\"],[0.1111111111111111,\"#46039f\"],[0.2222222222222222,\"#7201a8\"],[0.3333333333333333,\"#9c179e\"],[0.4444444444444444,\"#bd3786\"],[0.5555555555555556,\"#d8576b\"],[0.6666666666666666,\"#ed7953\"],[0.7777777777777778,\"#fb9f3a\"],[0.8888888888888888,\"#fdca26\"],[1.0,\"#f0f921\"]]}],\"surface\":[{\"type\":\"surface\",\"colorbar\":{\"outlinewidth\":0,\"ticks\":\"\"},\"colorscale\":[[0.0,\"#0d0887\"],[0.1111111111111111,\"#46039f\"],[0.2222222222222222,\"#7201a8\"],[0.3333333333333333,\"#9c179e\"],[0.4444444444444444,\"#bd3786\"],[0.5555555555555556,\"#d8576b\"],[0.6666666666666666,\"#ed7953\"],[0.7777777777777778,\"#fb9f3a\"],[0.8888888888888888,\"#fdca26\"],[1.0,\"#f0f921\"]]}],\"mesh3d\":[{\"type\":\"mesh3d\",\"colorbar\":{\"outlinewidth\":0,\"ticks\":\"\"}}],\"scatter\":[{\"fillpattern\":{\"fillmode\":\"overlay\",\"size\":10,\"solidity\":0.2},\"type\":\"scatter\"}],\"parcoords\":[{\"type\":\"parcoords\",\"line\":{\"colorbar\":{\"outlinewidth\":0,\"ticks\":\"\"}}}],\"scatterpolargl\":[{\"type\":\"scatterpolargl\",\"marker\":{\"colorbar\":{\"outlinewidth\":0,\"ticks\":\"\"}}}],\"bar\":[{\"error_x\":{\"color\":\"#2a3f5f\"},\"error_y\":{\"color\":\"#2a3f5f\"},\"marker\":{\"line\":{\"color\":\"#E5ECF6\",\"width\":0.5},\"pattern\":{\"fillmode\":\"overlay\",\"size\":10,\"solidity\":0.2}},\"type\":\"bar\"}],\"scattergeo\":[{\"type\":\"scattergeo\",\"marker\":{\"colorbar\":{\"outlinewidth\":0,\"ticks\":\"\"}}}],\"scatterpolar\":[{\"type\":\"scatterpolar\",\"marker\":{\"colorbar\":{\"outlinewidth\":0,\"ticks\":\"\"}}}],\"histogram\":[{\"marker\":{\"pattern\":{\"fillmode\":\"overlay\",\"size\":10,\"solidity\":0.2}},\"type\":\"histogram\"}],\"scattergl\":[{\"type\":\"scattergl\",\"marker\":{\"colorbar\":{\"outlinewidth\":0,\"ticks\":\"\"}}}],\"scatter3d\":[{\"type\":\"scatter3d\",\"line\":{\"colorbar\":{\"outlinewidth\":0,\"ticks\":\"\"}},\"marker\":{\"colorbar\":{\"outlinewidth\":0,\"ticks\":\"\"}}}],\"scattermapbox\":[{\"type\":\"scattermapbox\",\"marker\":{\"colorbar\":{\"outlinewidth\":0,\"ticks\":\"\"}}}],\"scatterternary\":[{\"type\":\"scatterternary\",\"marker\":{\"colorbar\":{\"outlinewidth\":0,\"ticks\":\"\"}}}],\"scattercarpet\":[{\"type\":\"scattercarpet\",\"marker\":{\"colorbar\":{\"outlinewidth\":0,\"ticks\":\"\"}}}],\"carpet\":[{\"aaxis\":{\"endlinecolor\":\"#2a3f5f\",\"gridcolor\":\"white\",\"linecolor\":\"white\",\"minorgridcolor\":\"white\",\"startlinecolor\":\"#2a3f5f\"},\"baxis\":{\"endlinecolor\":\"#2a3f5f\",\"gridcolor\":\"white\",\"linecolor\":\"white\",\"minorgridcolor\":\"white\",\"startlinecolor\":\"#2a3f5f\"},\"type\":\"carpet\"}],\"table\":[{\"cells\":{\"fill\":{\"color\":\"#EBF0F8\"},\"line\":{\"color\":\"white\"}},\"header\":{\"fill\":{\"color\":\"#C8D4E3\"},\"line\":{\"color\":\"white\"}},\"type\":\"table\"}],\"barpolar\":[{\"marker\":{\"line\":{\"color\":\"#E5ECF6\",\"width\":0.5},\"pattern\":{\"fillmode\":\"overlay\",\"size\":10,\"solidity\":0.2}},\"type\":\"barpolar\"}],\"pie\":[{\"automargin\":true,\"type\":\"pie\"}]},\"layout\":{\"autotypenumbers\":\"strict\",\"colorway\":[\"#636efa\",\"#EF553B\",\"#00cc96\",\"#ab63fa\",\"#FFA15A\",\"#19d3f3\",\"#FF6692\",\"#B6E880\",\"#FF97FF\",\"#FECB52\"],\"font\":{\"color\":\"#2a3f5f\"},\"hovermode\":\"closest\",\"hoverlabel\":{\"align\":\"left\"},\"paper_bgcolor\":\"white\",\"plot_bgcolor\":\"#E5ECF6\",\"polar\":{\"bgcolor\":\"#E5ECF6\",\"angularaxis\":{\"gridcolor\":\"white\",\"linecolor\":\"white\",\"ticks\":\"\"},\"radialaxis\":{\"gridcolor\":\"white\",\"linecolor\":\"white\",\"ticks\":\"\"}},\"ternary\":{\"bgcolor\":\"#E5ECF6\",\"aaxis\":{\"gridcolor\":\"white\",\"linecolor\":\"white\",\"ticks\":\"\"},\"baxis\":{\"gridcolor\":\"white\",\"linecolor\":\"white\",\"ticks\":\"\"},\"caxis\":{\"gridcolor\":\"white\",\"linecolor\":\"white\",\"ticks\":\"\"}},\"coloraxis\":{\"colorbar\":{\"outlinewidth\":0,\"ticks\":\"\"}},\"colorscale\":{\"sequential\":[[0.0,\"#0d0887\"],[0.1111111111111111,\"#46039f\"],[0.2222222222222222,\"#7201a8\"],[0.3333333333333333,\"#9c179e\"],[0.4444444444444444,\"#bd3786\"],[0.5555555555555556,\"#d8576b\"],[0.6666666666666666,\"#ed7953\"],[0.7777777777777778,\"#fb9f3a\"],[0.8888888888888888,\"#fdca26\"],[1.0,\"#f0f921\"]],\"sequentialminus\":[[0.0,\"#0d0887\"],[0.1111111111111111,\"#46039f\"],[0.2222222222222222,\"#7201a8\"],[0.3333333333333333,\"#9c179e\"],[0.4444444444444444,\"#bd3786\"],[0.5555555555555556,\"#d8576b\"],[0.6666666666666666,\"#ed7953\"],[0.7777777777777778,\"#fb9f3a\"],[0.8888888888888888,\"#fdca26\"],[1.0,\"#f0f921\"]],\"diverging\":[[0,\"#8e0152\"],[0.1,\"#c51b7d\"],[0.2,\"#de77ae\"],[0.3,\"#f1b6da\"],[0.4,\"#fde0ef\"],[0.5,\"#f7f7f7\"],[0.6,\"#e6f5d0\"],[0.7,\"#b8e186\"],[0.8,\"#7fbc41\"],[0.9,\"#4d9221\"],[1,\"#276419\"]]},\"xaxis\":{\"gridcolor\":\"white\",\"linecolor\":\"white\",\"ticks\":\"\",\"title\":{\"standoff\":15},\"zerolinecolor\":\"white\",\"automargin\":true,\"zerolinewidth\":2},\"yaxis\":{\"gridcolor\":\"white\",\"linecolor\":\"white\",\"ticks\":\"\",\"title\":{\"standoff\":15},\"zerolinecolor\":\"white\",\"automargin\":true,\"zerolinewidth\":2},\"scene\":{\"xaxis\":{\"backgroundcolor\":\"#E5ECF6\",\"gridcolor\":\"white\",\"linecolor\":\"white\",\"showbackground\":true,\"ticks\":\"\",\"zerolinecolor\":\"white\",\"gridwidth\":2},\"yaxis\":{\"backgroundcolor\":\"#E5ECF6\",\"gridcolor\":\"white\",\"linecolor\":\"white\",\"showbackground\":true,\"ticks\":\"\",\"zerolinecolor\":\"white\",\"gridwidth\":2},\"zaxis\":{\"backgroundcolor\":\"#E5ECF6\",\"gridcolor\":\"white\",\"linecolor\":\"white\",\"showbackground\":true,\"ticks\":\"\",\"zerolinecolor\":\"white\",\"gridwidth\":2}},\"shapedefaults\":{\"line\":{\"color\":\"#2a3f5f\"}},\"annotationdefaults\":{\"arrowcolor\":\"#2a3f5f\",\"arrowhead\":0,\"arrowwidth\":1},\"geo\":{\"bgcolor\":\"white\",\"landcolor\":\"#E5ECF6\",\"subunitcolor\":\"white\",\"showland\":true,\"showlakes\":true,\"lakecolor\":\"white\"},\"title\":{\"x\":0.05},\"mapbox\":{\"style\":\"light\"}}},\"showlegend\":true,\"title\":{\"text\":\"Numer of Active Units\"},\"xaxis\":{\"title\":{\"text\":\"Similarity\"}},\"yaxis\":{\"title\":{\"text\":\"Sum of AU\"}}},                        {\"responsive\": true}                    ).then(function(){\n",
       "                            \n",
       "var gd = document.getElementById('bb163ed2-be2b-4926-acbf-3cc015f6b026');\n",
       "var x = new MutationObserver(function (mutations, observer) {{\n",
       "        var display = window.getComputedStyle(gd).display;\n",
       "        if (!display || display === 'none') {{\n",
       "            console.log([gd, 'removed!']);\n",
       "            Plotly.purge(gd);\n",
       "            observer.disconnect();\n",
       "        }}\n",
       "}});\n",
       "\n",
       "// Listen for the removal of the full notebook cells\n",
       "var notebookContainer = gd.closest('#notebook-container');\n",
       "if (notebookContainer) {{\n",
       "    x.observe(notebookContainer, {childList: true});\n",
       "}}\n",
       "\n",
       "// Listen for the clearing of the current output cell\n",
       "var outputEl = gd.closest('.output');\n",
       "if (outputEl) {{\n",
       "    x.observe(outputEl, {childList: true});\n",
       "}}\n",
       "\n",
       "                        })                };                });            </script>        </div>"
      ]
     },
     "metadata": {},
     "output_type": "display_data"
    }
   ],
   "source": [
    "fig = go.Figure()\n",
    "fig1 = go.Figure()\n",
    "x = np.linspace(0,1,11)\n",
    "for s in all_r_overlaps.keys():\n",
    "    overlap_means = all_r_overlaps[s]['mean']\n",
    "    overlap_stds = all_r_overlaps[s]['std']\n",
    "    m_ones = [all_r_overlaps[s]['m_ones']]\n",
    "    std_ones = [all_r_overlaps[s]['std_ones']]\n",
    "    fig.add_trace(go.Scatter( x=x,\n",
    "                            y=overlap_means, \n",
    "                            error_y=dict(\n",
    "                                        type='data',\n",
    "                                        array=overlap_stds,\n",
    "                                        visible=True,\n",
    "                                        ),\n",
    "                            mode='lines+markers',\n",
    "                            name=f\"sparsity:{s}\"\n",
    "                            ))\n",
    "    fig1.add_trace(go.Scatter(x=x,\n",
    "                              y=m_ones,\n",
    "                              error_y=dict(type='data',\n",
    "                                           array=std_ones,\n",
    "                                           visible=True,),\n",
    "                            mode='lines+markers',\n",
    "                            name=f\"mean N 1's\",\n",
    "                            ))\n",
    "        # print(all_d_overlaps[s][v])\n",
    "fig.update_layout(showlegend=True,\n",
    "                  title=\"Random Gates\",\n",
    "                  xaxis_title='Task similarity',\n",
    "                  yaxis_title='Overlap Values',\n",
    "                  width=1000,\n",
    "                  height=500,)\n",
    "fig1.update_layout(showlegend=True,\n",
    "                   title=\"Numer of Active Units\",  \n",
    "                   xaxis_title=\"Similarity\",\n",
    "                   yaxis_title=\"Sum of AU\")\n",
    "fig.show()\n",
    "fig1.show()"
   ]
  },
  {
   "cell_type": "code",
   "execution_count": null,
   "id": "bc3ebae2",
   "metadata": {},
   "outputs": [],
   "source": []
  },
  {
   "cell_type": "code",
   "execution_count": null,
   "id": "999df454",
   "metadata": {},
   "outputs": [],
   "source": []
  }
 ],
 "metadata": {
  "kernelspec": {
   "display_name": "pyvenv",
   "language": "python",
   "name": "python3"
  },
  "language_info": {
   "codemirror_mode": {
    "name": "ipython",
    "version": 3
   },
   "file_extension": ".py",
   "mimetype": "text/x-python",
   "name": "python",
   "nbconvert_exporter": "python",
   "pygments_lexer": "ipython3",
   "version": "3.12.2"
  }
 },
 "nbformat": 4,
 "nbformat_minor": 5
}
